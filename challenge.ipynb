{
  "nbformat": 4,
  "nbformat_minor": 0,
  "metadata": {
    "colab": {
      "name": "challenge.ipynb",
      "provenance": [],
      "collapsed_sections": [],
      "toc_visible": true,
      "include_colab_link": true
    },
    "kernelspec": {
      "display_name": "Python 3",
      "language": "python",
      "name": "python3"
    },
    "language_info": {
      "codemirror_mode": {
        "name": "ipython",
        "version": 3
      },
      "file_extension": ".py",
      "mimetype": "text/x-python",
      "name": "python",
      "nbconvert_exporter": "python",
      "pygments_lexer": "ipython3",
      "version": "3.9.4"
    },
    "accelerator": "GPU"
  },
  "cells": [
    {
      "cell_type": "markdown",
      "metadata": {
        "id": "view-in-github",
        "colab_type": "text"
      },
      "source": [
        "<a href=\"https://colab.research.google.com/github/gabelstapler6/QuickDrawClassification/blob/main/challenge.ipynb\" target=\"_parent\"><img src=\"https://colab.research.google.com/assets/colab-badge.svg\" alt=\"Open In Colab\"/></a>"
      ]
    },
    {
      "cell_type": "markdown",
      "metadata": {
        "id": "W71Beyxjt5LE"
      },
      "source": [
        "# Deep Learning challenge"
      ]
    },
    {
      "cell_type": "code",
      "metadata": {
        "id": "MdZAI83RugLk",
        "colab": {
          "base_uri": "https://localhost:8080/"
        },
        "outputId": "e4c9899d-5feb-4b4d-cc54-19c509da1fda"
      },
      "source": [
        "from google.colab import drive\n",
        "drive.mount('/content/drive')"
      ],
      "execution_count": null,
      "outputs": [
        {
          "output_type": "stream",
          "text": [
            "Mounted at /content/drive\n"
          ],
          "name": "stdout"
        }
      ]
    },
    {
      "cell_type": "markdown",
      "metadata": {
        "id": "LOGqQ93Bt5LJ"
      },
      "source": [
        "## Objective\n",
        "The objective of this challenge is to develop a deep learning based classification method to classify images from [Google Quickdraw](https://quickdraw.withgoogle.com/data).\n",
        "\n",
        "\n",
        "## Data \n",
        "Among all the available images, you will work on a dataset composed of 5 balanced classes, with 15000 training examples and 5000 test examples: baskets, eyes, glasses, rabbits and hands. The archive *Data_train_test.zip* contains the set of images, as well as two CSV files, giving the lists of images used for the training/test step. \n",
        "\n",
        "## Methodology\n",
        "You can use any algorithm that seems relevant to you (MLP, CNN, LSTM, transfer Learning,...), or even create your own neural network ! Find a relevant methodology, evaluate several architectures (use of dropout, batch Normalisation, use of pretrained netorks with fine tuning... ), objective functions, optimizers.... Take a look at the influence of the parameters (learning rate, batch size, ...). Be imaginative !!\n",
        "\n",
        "\n",
        "## Evaluation\n",
        "You have to write a final report in a **jupyter notebook**. The code will be done in Python, the comments in Markdown. \n",
        "In this report, you will detail all the steps that led you to the final results, the code you produce, all the experiments you made (different architectures, different parameters, the way you measure the performance of your method,...) with **relevant** comments.\n",
        "\n",
        "In order not to train all your models by myself, please save your **final** model using the [`save_weights`](https://keras.io/api/models/model_saving_apis/) method. For example:\n",
        "\n",
        "`model = tf.keras.Sequential([tf.keras.layers.Dense(5, input_shape=(3,)),tf.keras.layers.Softmax()])`\n",
        "\n",
        "`model.compile(...)`\n",
        "\n",
        "`model.fit(...)`\n",
        "\n",
        "`model.save_weights('mymodel.h5')`\n",
        "\n",
        "Please provide the `.h5` file as well as the full jupyter notebook.\n",
        "\n",
        "\n",
        "\n",
        "I have a validation set to validate your trained network. I will run your model on this dataset to measure the classification accuracy. \n",
        "\n",
        "To give the final mark, the following criteria will be used:\n",
        "- I will rank you w.r.t. to the accuracy on the validation set. The ranking will provide a part (8/20) of the note (8 points for the best accuracy down to 2 points for the worst)\n",
        "- The report will provide the remaining 12 points. I will assess the experiments you have made, the final model itself, the comments and the conclusions you have drawn, the results you  have obtained\n",
        "\n",
        "The report, as well as the `.h5`file, are due **July 5th 2021** on the GRISP  platform."
      ]
    },
    {
      "cell_type": "markdown",
      "metadata": {
        "id": "2HsfXJ53t5LM"
      },
      "source": [
        "## Imports"
      ]
    },
    {
      "cell_type": "code",
      "metadata": {
        "id": "v2_2TH1Jt5LN",
        "colab": {
          "base_uri": "https://localhost:8080/"
        },
        "outputId": "c789af8a-04c2-4ebf-9431-009521bb2376"
      },
      "source": [
        "import tensorflow as tf\n",
        "from tensorflow import keras\n",
        "\n",
        "import os\n",
        "import os.path\n",
        "import pandas as pd\n",
        "import numpy as np\n",
        "import time\n",
        "from PIL import Image\n",
        "import glob\n",
        "import matplotlib.pyplot as plt\n",
        "%matplotlib inline\n",
        "\n",
        "from sklearn.metrics import confusion_matrix\n",
        "from keras.wrappers.scikit_learn import KerasClassifier\n",
        "from sklearn.model_selection import GridSearchCV\n",
        "import seaborn as sns\n",
        "\n",
        "from random import randrange\n",
        "\n",
        "!pip install -q -U keras-tuner\n",
        "\n",
        "import keras_tuner as kt"
      ],
      "execution_count": null,
      "outputs": [
        {
          "output_type": "stream",
          "text": [
            "\u001b[?25l\r\u001b[K     |███▍                            | 10kB 24.4MB/s eta 0:00:01\r\u001b[K     |██████▉                         | 20kB 27.4MB/s eta 0:00:01\r\u001b[K     |██████████▏                     | 30kB 20.0MB/s eta 0:00:01\r\u001b[K     |█████████████▋                  | 40kB 15.9MB/s eta 0:00:01\r\u001b[K     |█████████████████               | 51kB 8.4MB/s eta 0:00:01\r\u001b[K     |████████████████████▍           | 61kB 8.7MB/s eta 0:00:01\r\u001b[K     |███████████████████████▊        | 71kB 8.8MB/s eta 0:00:01\r\u001b[K     |███████████████████████████▏    | 81kB 9.0MB/s eta 0:00:01\r\u001b[K     |██████████████████████████████▋ | 92kB 9.9MB/s eta 0:00:01\r\u001b[K     |████████████████████████████████| 102kB 7.0MB/s \n",
            "\u001b[?25h  Building wheel for kt-legacy (setup.py) ... \u001b[?25l\u001b[?25hdone\n"
          ],
          "name": "stdout"
        }
      ]
    },
    {
      "cell_type": "markdown",
      "metadata": {
        "id": "R0GlMTBDt5LQ"
      },
      "source": [
        "## Parameters\n"
      ]
    },
    {
      "cell_type": "code",
      "metadata": {
        "id": "fB48uf4ot5LR"
      },
      "source": [
        "# Use the correct directory\n",
        "data_dir = \"/content/drive/MyDrive/DeepLearning/Challenge/Data_train_test/\"\n",
        "model_dir = \"/content/drive/MyDrive/DeepLearning/Challenge/Models/\"\n",
        "\n",
        "classes = [\"basket\",\"eye\",\"binoculars\",\"rabbit\",\"hand\"]\n",
        "num_classes = 5\n",
        "\n",
        "image_width = 28\n",
        "image_height = 28\n",
        "image_channels = 3\n",
        "\n",
        "batch_size = 40"
      ],
      "execution_count": null,
      "outputs": []
    },
    {
      "cell_type": "markdown",
      "metadata": {
        "id": "0aMfKwSf2NWJ"
      },
      "source": [
        "## Retrieve the dataset(s)\n",
        "The data specified in the two .csv files needs to be loaded into the memory.\n",
        "One set for training the other for testing."
      ]
    },
    {
      "cell_type": "markdown",
      "metadata": {
        "id": "8Uh-mPJOj_wB"
      },
      "source": [
        "### Evaluating the approach for retrieving the datasets"
      ]
    },
    {
      "cell_type": "markdown",
      "metadata": {
        "id": "vqNoDmLtQmzo"
      },
      "source": [
        "The images need to be loaded from the Google Drive into the memory so that they can be processed by the neural net. There are some different approaches to do that."
      ]
    },
    {
      "cell_type": "markdown",
      "metadata": {
        "id": "qgH1vxijc03w"
      },
      "source": [
        "#### First approach: \"Flow from dataframe\"\n",
        "\n",
        "The Flow from dataframe is very easy to implement and understand. It loads the information from the .csv file and creates a generator object. When using the generator object for fitting the images are loaded from the drive and freed afterward. This method is very good when using large datasets so that the RAM does not get full. The creation of the generator object is very fast, but because the images are loaded during the fitting, the fitting needs a ton amounts of time.\n",
        "\n",
        "##### Example code:"
      ]
    },
    {
      "cell_type": "code",
      "metadata": {
        "id": "00uBqfqFcUeO"
      },
      "source": [
        "if 0:\n",
        "  datagen = ImageDataGenerator(rescale=1./255.)\n",
        "\n",
        "  train_df = pd.read_csv(data_dir + 'train.csv')\n",
        "\n",
        "  train_generator = datagen.flow_from_dataframe(\n",
        "    dataframe = train_df,\n",
        "    directory = data_dir + \"images/\",\n",
        "    x_col = \"relative_path\",\n",
        "    y_col = \"class_label\",\n",
        "    batch_size = batch_size,\n",
        "    seed = 42,\n",
        "    shuffle = True,\n",
        "    class_mode = \"raw\",\n",
        "    target_size = (image_height, image_width)\n",
        "  )"
      ],
      "execution_count": null,
      "outputs": []
    },
    {
      "cell_type": "markdown",
      "metadata": {
        "id": "prA1dFUof54n"
      },
      "source": [
        "This approach was the first to be used to retrieve the dataset. It was a failure due to the extreme fitting duration. The evaluation of the model was not possible because the colab session timed out before even reaching  completion of the first epoch. A bug resulted the fitting to freeze at the last batch of the epoch. The bug was fixed when setting the \"steps_per_epoch\" and \"validation_steps\" parameters of the fit function manually. Another approach needs to be used. MNIST is also as large as our dataset so the RAM usage should not be a problem."
      ]
    },
    {
      "cell_type": "markdown",
      "metadata": {
        "id": "XszdLyHhhCi3"
      },
      "source": [
        "#### Second approach: \"Numpy array\"\n",
        "\n",
        "This approach loads all images into a numpy array. This is basically the same as the MNIST dataset. The good part about this is that after reading all the images into the array, the array itself can be saved to a file. This saves a lot of time, because the reason for the long loading times is the reading of the image files from the GoogleDrive. The first time reading all the raw images from the drive and converting them into numpy arrays needed to be endured (~6h) but then the development of the model could start. The loading of the array data from the file is also extremely fast (less than 1 minute) compared to loading the images. The fitting is also really fast."
      ]
    },
    {
      "cell_type": "markdown",
      "metadata": {
        "id": "n6fYPKCvjgGN"
      },
      "source": [
        "### Define some convenience functions"
      ]
    },
    {
      "cell_type": "markdown",
      "metadata": {
        "id": "k4jqp4OSkRPT"
      },
      "source": [
        "The images can be loaded from disk using the \"relative_path\" column of the .csv files and put into a numpy array (e.g. x_train.shape: (75000, 28, 28, 3)). The corresponding labels were retrieved using the \"class_label\" column. The keras function \"load_img\" returns a PIL image which is \"automatically\" converted into a numpy array when putting it into one.\n"
      ]
    },
    {
      "cell_type": "code",
      "metadata": {
        "id": "Qd3ngIlwSDx1"
      },
      "source": [
        "def preprocess_data(dataframe):\n",
        "  dataframe_size = len(dataframe.relative_path)\n",
        "  x = np.empty((dataframe_size, image_height, image_width, image_channels))\n",
        "  y = np.empty(dataframe_size)\n",
        "  print(\"Start loading images...\")\n",
        "  for i in range(0, dataframe_size):\n",
        "    img = tf.keras.preprocessing.image.load_img(data_dir + \"images/\" + dataframe.relative_path[i], target_size=(image_height, image_width))\n",
        "    x[i] = img\n",
        "    y[i] = dataframe.class_label[i]\n",
        "    if (i+1) % 100 == 0:\n",
        "      print(\"Loaded \" + str(i+1) + \"/\" + str(dataframe_size))\n",
        "  # normalize the pixel values to float values between 0 and 1\n",
        "  x = x / 255.0\n",
        "  return x, y"
      ],
      "execution_count": null,
      "outputs": []
    },
    {
      "cell_type": "markdown",
      "metadata": {
        "id": "ZBueBDbsmYEk"
      },
      "source": [
        "The \"retrieve_data\" function is used for managing the saving and loading of the dataset to the disk as well as calling the \"preprocess_data\" function to load the images from the Google drive."
      ]
    },
    {
      "cell_type": "code",
      "metadata": {
        "id": "Npd1tUL2VoRz"
      },
      "source": [
        "def retrieve_data(dataframe, save_path_x, save_path_y):\n",
        "  if os.path.isfile(save_path_x) & os.path.isfile(save_path_y):\n",
        "    print(\"Found save files:\\n\" + save_path_x + \"\\n\" + save_path_y)\n",
        "    x = np.load(save_path_x)\n",
        "    y = np.load(save_path_y)\n",
        "    return x, y\n",
        "  else:\n",
        "    x, y = preprocess_data(dataframe)\n",
        "    np.save(save_path_x, x)\n",
        "    np.save(save_path_y, y)\n",
        "    return x, y"
      ],
      "execution_count": null,
      "outputs": []
    },
    {
      "cell_type": "markdown",
      "metadata": {
        "id": "NTaI4_aAm4RM"
      },
      "source": [
        "### Loading the datasets into the memory"
      ]
    },
    {
      "cell_type": "code",
      "metadata": {
        "colab": {
          "base_uri": "https://localhost:8080/"
        },
        "id": "ORm-fNPiLfHj",
        "outputId": "9f082aa5-525d-460b-8527-4cd68803ed1f"
      },
      "source": [
        "train_df = pd.read_csv(data_dir + 'train.csv')\n",
        "\n",
        "print(\"Retrieve train data:\")\n",
        "x_train, y_train = retrieve_data(train_df, data_dir + \"npy/x_train.npy\", data_dir + \"npy/y_train.npy\")"
      ],
      "execution_count": null,
      "outputs": [
        {
          "output_type": "stream",
          "text": [
            "Retrieve train data:\n",
            "Found save files:\n",
            "/content/drive/MyDrive/DeepLearning/Challenge/Data_train_test/npy/x_train.npy\n",
            "/content/drive/MyDrive/DeepLearning/Challenge/Data_train_test/npy/y_train.npy\n"
          ],
          "name": "stdout"
        }
      ]
    },
    {
      "cell_type": "code",
      "metadata": {
        "colab": {
          "base_uri": "https://localhost:8080/"
        },
        "id": "EkYsrQRJnEqI",
        "outputId": "1cb207d7-e8c8-4e3a-e0cb-cacd1994a586"
      },
      "source": [
        "test_df = pd.read_csv(data_dir + 'test.csv')\n",
        "\n",
        "print(\"Retrieve test data:\")\n",
        "x_test, y_test = retrieve_data(test_df, data_dir + \"npy/x_test.npy\", data_dir + \"npy/y_test.npy\")"
      ],
      "execution_count": null,
      "outputs": [
        {
          "output_type": "stream",
          "text": [
            "Retrieve test data:\n",
            "Found save files:\n",
            "/content/drive/MyDrive/DeepLearning/Challenge/Data_train_test/npy/x_test.npy\n",
            "/content/drive/MyDrive/DeepLearning/Challenge/Data_train_test/npy/y_test.npy\n"
          ],
          "name": "stdout"
        }
      ]
    },
    {
      "cell_type": "markdown",
      "metadata": {
        "id": "0f-dueYlVxRV"
      },
      "source": [
        "### Visualize the data\n"
      ]
    },
    {
      "cell_type": "markdown",
      "metadata": {
        "id": "mB9rMs2Gnh15"
      },
      "source": [
        "Plot some random images and their corresponding label from the training set to confirm the data."
      ]
    },
    {
      "cell_type": "code",
      "metadata": {
        "id": "Yri1W4zdJ3c8"
      },
      "source": [
        "def visualize_data(x_data, y_data):\n",
        "  plt.figure(figsize=(10, 10))\n",
        "  for i in range(9):\n",
        "    ax = plt.subplot(3, 3, i + 1)\n",
        "    rand = randrange(len(x_data))\n",
        "    img = x_data[rand]\n",
        "    plt.imshow(img)\n",
        "    label = int(y_data[rand])\n",
        "    plt.title(classes[label])\n",
        "    plt.axis(\"off\")"
      ],
      "execution_count": null,
      "outputs": []
    },
    {
      "cell_type": "code",
      "metadata": {
        "colab": {
          "base_uri": "https://localhost:8080/",
          "height": 591
        },
        "id": "dgPrD9taLAty",
        "outputId": "82c9b41b-f8c4-400f-a5b9-4e5b6924727c"
      },
      "source": [
        "visualize_data(x_train, y_train)"
      ],
      "execution_count": null,
      "outputs": [
        {
          "output_type": "display_data",
          "data": {
            "image/png": "[encoded data removed]",
            "text/plain": [
              "<Figure size 720x720 with 9 Axes>"
            ]
          },
          "metadata": {
            "tags": [],
            "needs_background": "light"
          }
        }
      ]
    },
    {
      "cell_type": "markdown",
      "metadata": {
        "id": "5W2d0GLy2TJg"
      },
      "source": [
        "## Creating the classification model"
      ]
    },
    {
      "cell_type": "markdown",
      "metadata": {
        "id": "vgLQVy7keOAu"
      },
      "source": [
        "#### Using a MLP architecture"
      ]
    },
    {
      "cell_type": "markdown",
      "metadata": {
        "id": "kcgPtTDoUUbu"
      },
      "source": [
        "The first architecture to try out the classification of the dataset was the MLP. The first Flatten layer is used to convert the 3-dimensional numpy arrays from the dataset into a 1-dimensional array. After those 3 Dense layers with the \"tanh\" activation function are used. At last, there is the last Dense layer with the output of 5 (number of classes in the dataset) and the \"softmax\" activation function to format the output into a probability distribution (float values from 0 to 1). The optimizer that is used is the Adam optimizer. The Adam optimizer is the best choice for a classification problem with a large number of training data because it speeds up the learning process. Because we have a multi class classification problem the best option to choose for the loss function is the \"sparse_categorical_crossentropy\"."
      ]
    },
    {
      "cell_type": "markdown",
      "metadata": {
        "id": "IzWVrLKhV3oF"
      },
      "source": [
        "For each model there is a \"create_..._model\" function. This is purely for convenience."
      ]
    },
    {
      "cell_type": "code",
      "metadata": {
        "id": "VCgSqDCp8PJI"
      },
      "source": [
        "def create_mlp_model(name):\n",
        "  model = keras.Sequential(name=name)\n",
        "  model.add(keras.layers.Flatten(input_shape=(image_height, image_width, image_channels)))\n",
        "  model.add(keras.layers.Dense(units=128, activation=\"tanh\"))\n",
        "  model.add(keras.layers.Dense(units=64, activation=\"tanh\"))\n",
        "  model.add(keras.layers.Dense(units=64, activation=\"tanh\"))\n",
        "  model.add(keras.layers.Dense(units=5, activation=\"softmax\"))\n",
        "\n",
        "  model.compile(optimizer=\"adam\", loss=\"sparse_categorical_crossentropy\", metrics=[\"accuracy\"])\n",
        "  return model"
      ],
      "execution_count": null,
      "outputs": []
    },
    {
      "cell_type": "code",
      "metadata": {
        "colab": {
          "base_uri": "https://localhost:8080/"
        },
        "id": "iIKvEuIB85zU",
        "outputId": "3843d470-cd1e-45ee-dcd1-0d0e8146cfe8"
      },
      "source": [
        "mlp_model = create_mlp_model(\"mlp_model\")\n",
        "mlp_model.summary()"
      ],
      "execution_count": null,
      "outputs": [
        {
          "output_type": "stream",
          "text": [
            "Model: \"mlp_model\"\n",
            "_________________________________________________________________\n",
            "Layer (type)                 Output Shape              Param #   \n",
            "=================================================================\n",
            "flatten (Flatten)            (None, 2352)              0         \n",
            "_________________________________________________________________\n",
            "dense (Dense)                (None, 128)               301184    \n",
            "_________________________________________________________________\n",
            "dense_1 (Dense)              (None, 64)                8256      \n",
            "_________________________________________________________________\n",
            "dense_2 (Dense)              (None, 64)                4160      \n",
            "_________________________________________________________________\n",
            "dense_3 (Dense)              (None, 5)                 325       \n",
            "=================================================================\n",
            "Total params: 313,925\n",
            "Trainable params: 313,925\n",
            "Non-trainable params: 0\n",
            "_________________________________________________________________\n"
          ],
          "name": "stdout"
        }
      ]
    },
    {
      "cell_type": "markdown",
      "metadata": {
        "id": "LTf2XKFI2bKi"
      },
      "source": [
        "##### Train the model"
      ]
    },
    {
      "cell_type": "markdown",
      "metadata": {
        "id": "ik868Zclq12U"
      },
      "source": [
        "Specifying some callback functions to be called during the fitting process\n",
        "- EarlyStopping\n",
        "  - Stop the fitting if the monitored value gets worse after the number of\n",
        "  epochs specified in patience\n",
        "  - Here the \"val_loss\" should be monitored because this value rises when the model starts to overfit\n",
        "- CSVLogger\n",
        "  - Save the training history into a file after each epoch"
      ]
    },
    {
      "cell_type": "code",
      "metadata": {
        "id": "7n5ozmSSqjiC"
      },
      "source": [
        "def get_callbacks(name):\n",
        "  callbacks = [\n",
        "               tf.keras.callbacks.EarlyStopping(monitor=\"val_loss\", patience=4),\n",
        "               keras.callbacks.CSVLogger(model_dir + name + \".history\")\n",
        "               ]\n",
        "  return callbacks"
      ],
      "execution_count": null,
      "outputs": []
    },
    {
      "cell_type": "markdown",
      "metadata": {
        "id": "RYIQeDmhrkQm"
      },
      "source": [
        "This function is responsible for fitting the model as well as saving the trained weights to the Drive. If weights are already saved this function retrieves the weights and loads them into the model."
      ]
    },
    {
      "cell_type": "code",
      "metadata": {
        "id": "nwfLqs-UfJNX"
      },
      "source": [
        "def fit_model(model, epochs, force_fit=False, verbose=1):\n",
        "\n",
        "  weights_path = model_dir + model.name + \".h5\"\n",
        "  history_path = model_dir + model.name + \".history\"\n",
        "  \n",
        "  if not force_fit:\n",
        "    if os.path.isfile(weights_path) & os.path.isfile(history_path):\n",
        "      print(\"Found weights and training history for \" + model.name + \" at:\\n\" + weights_path + \"\\n\" + history_path)\n",
        "      model.load_weights(weights_path)\n",
        "      return pd.read_csv(history_path)\n",
        "\n",
        "  print(\"Fitting \" + model.name + \" ...\\n\")\n",
        "  steps_per_epoch = len(x_train) // batch_size\n",
        "  validation_steps = len(x_test) // batch_size\n",
        "\n",
        "  history = model.fit(\n",
        "      x = x_train,\n",
        "      y = y_train,  \n",
        "      steps_per_epoch = steps_per_epoch,\n",
        "      validation_data = (x_test, y_test),\n",
        "      validation_steps = validation_steps,\n",
        "      epochs = epochs,\n",
        "      batch_size = batch_size,\n",
        "      shuffle = True,\n",
        "      verbose = verbose,\n",
        "      callbacks = get_callbacks(model.name)\n",
        "  )\n",
        "\n",
        "  model.save_weights(weights_path)\n",
        "\n",
        "  print(\"Finished fitting!\")\n",
        "  return pd.DataFrame(history.history)"
      ],
      "execution_count": null,
      "outputs": []
    },
    {
      "cell_type": "markdown",
      "metadata": {
        "id": "Ygt9OciM2fEV"
      },
      "source": [
        "Calling the above defined function for fitting the MLP model."
      ]
    },
    {
      "cell_type": "code",
      "metadata": {
        "colab": {
          "base_uri": "https://localhost:8080/"
        },
        "id": "k7rvh5kx9O6i",
        "outputId": "23395661-77f1-4b64-9fc8-6348eb66e69b"
      },
      "source": [
        "mlp_model_history = fit_model(mlp_model, epochs=20)"
      ],
      "execution_count": null,
      "outputs": [
        {
          "output_type": "stream",
          "text": [
            "Found weights and training history for mlp_model at:\n",
            "/content/drive/MyDrive/DeepLearning/Challenge/Models/mlp_model.h5\n",
            "/content/drive/MyDrive/DeepLearning/Challenge/Models/mlp_model.history\n"
          ],
          "name": "stdout"
        }
      ]
    },
    {
      "cell_type": "markdown",
      "metadata": {
        "id": "cGaVqMet2hck"
      },
      "source": [
        "##### Evaluate the model"
      ]
    },
    {
      "cell_type": "markdown",
      "metadata": {
        "id": "zC2hzhZ6tF0Q"
      },
      "source": [
        "This is a reusable function for plotting the accuracy of the training and the validation set, as well as the losses."
      ]
    },
    {
      "cell_type": "code",
      "metadata": {
        "id": "IFCHj1e929yE"
      },
      "source": [
        "def visualize_accuracy_and_loss(history, name=\"\"):\n",
        "  acc = history.accuracy\n",
        "  val_acc = history.val_accuracy\n",
        "\n",
        "  loss = history.loss\n",
        "  val_loss = history.val_loss\n",
        "\n",
        "  epochs_range = range(len(history.accuracy))\n",
        "\n",
        "  plt.figure(figsize=(7, 7))\n",
        "\n",
        "  plt.subplot(1, 2, 1)\n",
        "  plt.plot(epochs_range, acc, label=\"Training Accuracy\")\n",
        "  plt.plot(epochs_range, val_acc, label=\"Validation Accuracy\")\n",
        "  plt.legend(loc=\"lower right\")\n",
        "  plt.title(\"Accuracy \" + name)\n",
        "\n",
        "  plt.subplot(1, 2, 2)\n",
        "  plt.plot(epochs_range, loss, label=\"Training Loss\")\n",
        "  plt.plot(epochs_range, val_loss, label=\"Validation Loss\")\n",
        "  plt.legend(loc=\"upper right\")\n",
        "  plt.title(\"Loss \" + name)\n",
        "  plt.show()"
      ],
      "execution_count": null,
      "outputs": []
    },
    {
      "cell_type": "code",
      "metadata": {
        "colab": {
          "base_uri": "https://localhost:8080/",
          "height": 444
        },
        "id": "2zsbTQwzfxhx",
        "outputId": "e152655f-895f-4557-cb46-29e8462f7260"
      },
      "source": [
        "visualize_accuracy_and_loss(mlp_model_history, mlp_model.name)"
      ],
      "execution_count": null,
      "outputs": [
        {
          "output_type": "display_data",
          "data": {
            "image/png": "[encoded data removed]",
            "text/plain": [
              "<Figure size 504x504 with 2 Axes>"
            ]
          },
          "metadata": {
            "tags": [],
            "needs_background": "light"
          }
        }
      ]
    },
    {
      "cell_type": "markdown",
      "metadata": {
        "id": "3d7_M3hEShBy"
      },
      "source": [
        "The shape of the curves tells us that the model quickly starts to overfit on the training set. The model cannot generalize because it depends too much on the training data."
      ]
    },
    {
      "cell_type": "markdown",
      "metadata": {
        "id": "dGLgdy7FLrjh"
      },
      "source": [
        "Confusion Matrix"
      ]
    },
    {
      "cell_type": "markdown",
      "metadata": {
        "id": "8QjZAjHFS3hv"
      },
      "source": [
        "The confusion matrix shows the predicted and true labels for all classes in the specified dataset (x and y)."
      ]
    },
    {
      "cell_type": "code",
      "metadata": {
        "id": "3caJOBCrMkEq"
      },
      "source": [
        "def plot_confusion_matrix(model, x, y):\n",
        "  y_true, y_pred = y, np.argmax(model.predict(x), axis=-1)\n",
        "  cm = confusion_matrix(y_true, y_pred)\n",
        "\n",
        "  fig, ax = plt.subplots(figsize=(7, 7))     \n",
        "  ax = plt.subplot()\n",
        "  sns.heatmap(cm, annot=True, cmap=\"Greens\", fmt=\"g\")\n",
        "  ax.set_xlabel(\"\\nPredicted labels\", fontsize=14)\n",
        "  ax.set_ylabel(\"\\nTrue labels\", fontsize=14)\n",
        "  ax.set_title(\"Confusion Matrix \" + model.name)\n",
        "  ax.xaxis.set_ticklabels(classes)\n",
        "  ax.yaxis.set_ticklabels(classes)\n",
        "  plt.show()"
      ],
      "execution_count": null,
      "outputs": []
    },
    {
      "cell_type": "code",
      "metadata": {
        "colab": {
          "base_uri": "https://localhost:8080/",
          "height": 479
        },
        "id": "SK0rnVPiLxLm",
        "outputId": "b159d207-6069-4757-bb8b-27c6bed132dd"
      },
      "source": [
        "plot_confusion_matrix(mlp_model, x_test, y_test)"
      ],
      "execution_count": null,
      "outputs": [
        {
          "output_type": "display_data",
          "data": {
            "image/png": "[encoded data removed]",
            "text/plain": [
              "<Figure size 504x504 with 2 Axes>"
            ]
          },
          "metadata": {
            "tags": [],
            "needs_background": "light"
          }
        }
      ]
    },
    {
      "cell_type": "markdown",
      "metadata": {
        "id": "RgQTNRnrcwQ5"
      },
      "source": [
        "At last, print the accuracy on the specified dataset."
      ]
    },
    {
      "cell_type": "code",
      "metadata": {
        "id": "zjEqh-SX-yIJ"
      },
      "source": [
        "def get_final_accuracy(model, x, y):\n",
        "  scores = model.evaluate(x=x, y=y, verbose=0)\n",
        "  scores = round(scores[1]*100, 2)\n",
        "  print(\"Final accuracy for \" + model.name + \": \" + str(scores) +  \"%\")\n",
        "  return scores"
      ],
      "execution_count": null,
      "outputs": []
    },
    {
      "cell_type": "code",
      "metadata": {
        "id": "fS8BTs55Cupk",
        "colab": {
          "base_uri": "https://localhost:8080/"
        },
        "outputId": "f4a41a69-50cb-46b1-f99e-4f9fed533a9f"
      },
      "source": [
        "get_final_accuracy(mlp_model, x_test, y_test)"
      ],
      "execution_count": null,
      "outputs": [
        {
          "output_type": "stream",
          "text": [
            "Final accuracy for mlp_model: 87.86%\n"
          ],
          "name": "stdout"
        },
        {
          "output_type": "execute_result",
          "data": {
            "text/plain": [
              "87.86"
            ]
          },
          "metadata": {
            "tags": []
          },
          "execution_count": 35
        }
      ]
    },
    {
      "cell_type": "markdown",
      "metadata": {
        "id": "-jTIWfictbZ_"
      },
      "source": [
        "The final accuracy on the test dataset is pretty good using the MLP model. To prevent overfitting Dropout layers can be added."
      ]
    },
    {
      "cell_type": "markdown",
      "metadata": {
        "id": "d7gmFkPhebaT"
      },
      "source": [
        "##### Adding Dropout"
      ]
    },
    {
      "cell_type": "code",
      "metadata": {
        "id": "jFaiE8IrTtUX"
      },
      "source": [
        "def create_mlp_dropout_model(name):\n",
        "  model = keras.Sequential(name=name)\n",
        "  model.add(keras.layers.Flatten(input_shape=(image_height, image_width, image_channels)))\n",
        "  model.add(keras.layers.Dense(units=128, activation=\"tanh\"))\n",
        "  model.add(keras.layers.Dropout(0.3))\n",
        "  model.add(keras.layers.Dense(units=64, activation=\"tanh\"))\n",
        "  model.add(keras.layers.Dropout(0.3))\n",
        "  model.add(keras.layers.Dense(units=64, activation=\"tanh\"))\n",
        "  model.add(keras.layers.Dense(units=5, activation=\"softmax\"))\n",
        "\n",
        "  model.compile(optimizer=\"adam\", loss=\"sparse_categorical_crossentropy\", metrics=[\"accuracy\"])\n",
        "  return model"
      ],
      "execution_count": null,
      "outputs": []
    },
    {
      "cell_type": "markdown",
      "metadata": {
        "id": "fuj33uF2T6zk"
      },
      "source": [
        "The \"process_model\" function bundles all above functions into one call for convenience."
      ]
    },
    {
      "cell_type": "code",
      "metadata": {
        "id": "_8LLWLGOEL6i"
      },
      "source": [
        "def process_model(model, print_summary=True, epochs=10, force_fit=False, fitting_verbose=0):\n",
        "  if print_summary:\n",
        "    model.summary()\n",
        "    print(\"\\n\")\n",
        "  history = fit_model(model, epochs=epochs, force_fit=force_fit, verbose=fitting_verbose)\n",
        "  print(\"\\n\")\n",
        "  visualize_accuracy_and_loss(history, model.name)\n",
        "  print(\"\\n\")\n",
        "  plot_confusion_matrix(model, x_test, y_test)\n",
        "  print(\"\\n\")\n",
        "  return get_final_accuracy(model, x_test, y_test)"
      ],
      "execution_count": null,
      "outputs": []
    },
    {
      "cell_type": "code",
      "metadata": {
        "colab": {
          "base_uri": "https://localhost:8080/",
          "height": 1000
        },
        "id": "42ZoE4-oUDQP",
        "outputId": "3c642f4b-36ca-4ad0-d17f-2c026f937e29"
      },
      "source": [
        "mlp_dropout_model = create_mlp_dropout_model(\"mlp_dropout_model\")\n",
        "process_model(mlp_dropout_model, epochs=20)"
      ],
      "execution_count": null,
      "outputs": [
        {
          "output_type": "stream",
          "text": [
            "Model: \"mlp_dropout_model\"\n",
            "_________________________________________________________________\n",
            "Layer (type)                 Output Shape              Param #   \n",
            "=================================================================\n",
            "flatten_1 (Flatten)          (None, 2352)              0         \n",
            "_________________________________________________________________\n",
            "dense_4 (Dense)              (None, 128)               301184    \n",
            "_________________________________________________________________\n",
            "dropout (Dropout)            (None, 128)               0         \n",
            "_________________________________________________________________\n",
            "dense_5 (Dense)              (None, 64)                8256      \n",
            "_________________________________________________________________\n",
            "dropout_1 (Dropout)          (None, 64)                0         \n",
            "_________________________________________________________________\n",
            "dense_6 (Dense)              (None, 64)                4160      \n",
            "_________________________________________________________________\n",
            "dense_7 (Dense)              (None, 5)                 325       \n",
            "=================================================================\n",
            "Total params: 313,925\n",
            "Trainable params: 313,925\n",
            "Non-trainable params: 0\n",
            "_________________________________________________________________\n",
            "\n",
            "\n",
            "Found weights and training history for mlp_dropout_model at:\n",
            "/content/drive/MyDrive/DeepLearning/Challenge/Models/mlp_dropout_model.h5\n",
            "/content/drive/MyDrive/DeepLearning/Challenge/Models/mlp_dropout_model.history\n",
            "\n",
            "\n"
          ],
          "name": "stdout"
        },
        {
          "output_type": "display_data",
          "data": {
            "image/png": "[encoded data removed]",
            "text/plain": [
              "<Figure size 504x504 with 2 Axes>"
            ]
          },
          "metadata": {
            "tags": [],
            "needs_background": "light"
          }
        },
        {
          "output_type": "stream",
          "text": [
            "\n",
            "\n"
          ],
          "name": "stdout"
        },
        {
          "output_type": "display_data",
          "data": {
            "image/png": "[encoded data removed]",
            "text/plain": [
              "<Figure size 504x504 with 2 Axes>"
            ]
          },
          "metadata": {
            "tags": [],
            "needs_background": "light"
          }
        },
        {
          "output_type": "stream",
          "text": [
            "\n",
            "\n",
            "Final accuracy for mlp_dropout_model: 87.37%\n"
          ],
          "name": "stdout"
        }
      ]
    },
    {
      "cell_type": "markdown",
      "metadata": {
        "id": "b123ABTkU9N5"
      },
      "source": [
        "You can see that the shapes of the curves have changed drastically. The validation accuracy is now higher than the training accuracy, but the final accuracy is even a little bit worse than before. It can be concluded that using a MLP for classifying the QuickDraw dataset is not a good choice when it gets to getting the best results. The next best option is a CNN. The CNN can probably identify more patterns and generalize them better, because of the convolution layers."
      ]
    },
    {
      "cell_type": "markdown",
      "metadata": {
        "id": "tQ_61sBoudIt"
      },
      "source": [
        "#### Using a CNN architecture"
      ]
    },
    {
      "cell_type": "markdown",
      "metadata": {
        "id": "oMwa3vw4wnZ3"
      },
      "source": [
        "Choosing the number of Convolution, Fully Connected, MaxPooling and Dropout is a hard choice, that why an approach for determining the number of layers needs to be used."
      ]
    },
    {
      "cell_type": "markdown",
      "metadata": {
        "id": "Fx8_DjB9xc87"
      },
      "source": [
        "##### Number of Convolution layers"
      ]
    },
    {
      "cell_type": "markdown",
      "metadata": {
        "id": "un-3Lgv6cvRh"
      },
      "source": [
        "First the number of Convolution layers needs to be determined. The below code creates models with 1 to 10 stacked Convolution layers, fits them and saves the final accuracy into a dictionary for evaluation."
      ]
    },
    {
      "cell_type": "code",
      "metadata": {
        "id": "ewii4uQ1ff4Y",
        "colab": {
          "base_uri": "https://localhost:8080/"
        },
        "outputId": "adcbc1f4-dba6-4b71-92cb-166d782df9b7"
      },
      "source": [
        "conv_scores = {}\n",
        "# up to 10 sequential convolution layers\n",
        "for num_conv in range(1, 11):\n",
        "  model = keras.Sequential(name = \"cnn_model_\" + str(num_conv) + \"_conv\")\n",
        "  model.add(keras.layers.InputLayer(input_shape=(image_height, image_width, image_channels)))\n",
        "\n",
        "  for i in range(0, num_conv):\n",
        "    model.add(keras.layers.Conv2D(filters=32, kernel_size=(3,3), padding=\"same\", activation=\"relu\"))\n",
        "  \n",
        "  model.add(keras.layers.Flatten())\n",
        "  model.add(keras.layers.Dense(units=64, activation=\"relu\"))\n",
        "  model.add(keras.layers.Dense(units=num_classes, activation=\"softmax\"))\n",
        "\n",
        "  model.compile(optimizer=\"adam\", loss=\"sparse_categorical_crossentropy\", metrics=[\"accuracy\"])\n",
        "\n",
        "  fit_model(model, 20)\n",
        "  score = get_final_accuracy(model, x_test, y_test)\n",
        "  print(\"\")\n",
        "\n",
        "  conv_scores[model.name] = score"
      ],
      "execution_count": null,
      "outputs": [
        {
          "output_type": "stream",
          "text": [
            "Found weights and training history for cnn_model_1_conv at:\n",
            "/content/drive/MyDrive/DeepLearning/Challenge/Models/cnn_model_1_conv.h5\n",
            "/content/drive/MyDrive/DeepLearning/Challenge/Models/cnn_model_1_conv.history\n",
            "Final accuracy for cnn_model_1_conv: 92.36%\n",
            "\n",
            "Found weights and training history for cnn_model_2_conv at:\n",
            "/content/drive/MyDrive/DeepLearning/Challenge/Models/cnn_model_2_conv.h5\n",
            "/content/drive/MyDrive/DeepLearning/Challenge/Models/cnn_model_2_conv.history\n",
            "Final accuracy for cnn_model_2_conv: 93.36%\n",
            "\n",
            "Found weights and training history for cnn_model_3_conv at:\n",
            "/content/drive/MyDrive/DeepLearning/Challenge/Models/cnn_model_3_conv.h5\n",
            "/content/drive/MyDrive/DeepLearning/Challenge/Models/cnn_model_3_conv.history\n",
            "Final accuracy for cnn_model_3_conv: 93.93%\n",
            "\n",
            "Found weights and training history for cnn_model_4_conv at:\n",
            "/content/drive/MyDrive/DeepLearning/Challenge/Models/cnn_model_4_conv.h5\n",
            "/content/drive/MyDrive/DeepLearning/Challenge/Models/cnn_model_4_conv.history\n",
            "Final accuracy for cnn_model_4_conv: 94.13%\n",
            "\n",
            "Found weights and training history for cnn_model_5_conv at:\n",
            "/content/drive/MyDrive/DeepLearning/Challenge/Models/cnn_model_5_conv.h5\n",
            "/content/drive/MyDrive/DeepLearning/Challenge/Models/cnn_model_5_conv.history\n",
            "Final accuracy for cnn_model_5_conv: 93.58%\n",
            "\n",
            "Found weights and training history for cnn_model_6_conv at:\n",
            "/content/drive/MyDrive/DeepLearning/Challenge/Models/cnn_model_6_conv.h5\n",
            "/content/drive/MyDrive/DeepLearning/Challenge/Models/cnn_model_6_conv.history\n",
            "Final accuracy for cnn_model_6_conv: 93.74%\n",
            "\n",
            "Found weights and training history for cnn_model_7_conv at:\n",
            "/content/drive/MyDrive/DeepLearning/Challenge/Models/cnn_model_7_conv.h5\n",
            "/content/drive/MyDrive/DeepLearning/Challenge/Models/cnn_model_7_conv.history\n",
            "Final accuracy for cnn_model_7_conv: 93.82%\n",
            "\n",
            "Found weights and training history for cnn_model_8_conv at:\n",
            "/content/drive/MyDrive/DeepLearning/Challenge/Models/cnn_model_8_conv.h5\n",
            "/content/drive/MyDrive/DeepLearning/Challenge/Models/cnn_model_8_conv.history\n",
            "Final accuracy for cnn_model_8_conv: 94.34%\n",
            "\n",
            "Found weights and training history for cnn_model_9_conv at:\n",
            "/content/drive/MyDrive/DeepLearning/Challenge/Models/cnn_model_9_conv.h5\n",
            "/content/drive/MyDrive/DeepLearning/Challenge/Models/cnn_model_9_conv.history\n",
            "Final accuracy for cnn_model_9_conv: 94.26%\n",
            "\n",
            "Found weights and training history for cnn_model_10_conv at:\n",
            "/content/drive/MyDrive/DeepLearning/Challenge/Models/cnn_model_10_conv.h5\n",
            "/content/drive/MyDrive/DeepLearning/Challenge/Models/cnn_model_10_conv.history\n",
            "Final accuracy for cnn_model_10_conv: 94.11%\n",
            "\n"
          ],
          "name": "stdout"
        }
      ]
    },
    {
      "cell_type": "markdown",
      "metadata": {
        "id": "rDO4IjY7s56A"
      },
      "source": [
        "Visualizing the resulting scores and the corresponding models."
      ]
    },
    {
      "cell_type": "code",
      "metadata": {
        "id": "ftbA0L7BfM_S"
      },
      "source": [
        "def plot_dict(dict, y_min, y_max, figsize):\n",
        "  keys = dict.keys()\n",
        "  values = dict.values()\n",
        "\n",
        "  plt.figure(figsize=figsize)\n",
        "  plt.ylim(y_min, y_max)\n",
        "  plt.bar(keys, values)\n",
        "  plt.show()"
      ],
      "execution_count": null,
      "outputs": []
    },
    {
      "cell_type": "code",
      "metadata": {
        "id": "kmnrsWid4VPH",
        "colab": {
          "base_uri": "https://localhost:8080/",
          "height": 433
        },
        "outputId": "3db02312-8025-473d-8e04-743bd93622cf"
      },
      "source": [
        "plot_dict(conv_scores, 92, 95, (20,7))"
      ],
      "execution_count": null,
      "outputs": [
        {
          "output_type": "display_data",
          "data": {
            "image/png": "[encoded data removed]",
            "text/plain": [
              "<Figure size 1440x504 with 1 Axes>"
            ]
          },
          "metadata": {
            "tags": [],
            "needs_background": "light"
          }
        }
      ]
    },
    {
      "cell_type": "markdown",
      "metadata": {
        "id": "GjcIySQJwTOT"
      },
      "source": [
        "The models with 4, 8 and 9 convolutions scored best. This method seems kind of random because all models scored nearly the same. Also, when looking at the histories of the models there are epochs with better accuracy. For the sake of experimenting, I will stick to these results."
      ]
    },
    {
      "cell_type": "markdown",
      "metadata": {
        "id": "ZYax8noExj1q"
      },
      "source": [
        "##### Number of Fully Connected layers"
      ]
    },
    {
      "cell_type": "markdown",
      "metadata": {
        "id": "LnJIEGTle0PC"
      },
      "source": [
        " The next step is to find the optimal number of Fully Connected layers for the models. The models with 4, 8 and 9 convolutions scored best so the other configurations drop out. The below code creates the models and adds up to 5 Fully Connected layers."
      ]
    },
    {
      "cell_type": "code",
      "metadata": {
        "id": "ZYH1UsR1ylBJ",
        "colab": {
          "base_uri": "https://localhost:8080/"
        },
        "outputId": "b464e3d9-ae51-4ebd-eb2e-83fcdccfc447"
      },
      "source": [
        "fc_scores = {}\n",
        "conv_layers = [4,8,9]\n",
        "for num_conv in conv_layers:\n",
        "  # up to 5 fc layers\n",
        "  for num_fc in range(2, 6):\n",
        "    model = keras.Sequential(name = \"cnn_model_\" + str(num_conv) + \"_conv_\" + str(num_fc) + \"_fc\")\n",
        "    model.add(keras.layers.InputLayer(input_shape=(image_height, image_width, image_channels)))\n",
        "\n",
        "    for i in range(0, num_conv):\n",
        "      model.add(keras.layers.Conv2D(filters=32, kernel_size=(3,3), padding=\"same\", activation=\"relu\"))\n",
        "    \n",
        "    model.add(keras.layers.Flatten())\n",
        "    \n",
        "    for i in range(0, num_fc):\n",
        "      model.add(keras.layers.Dense(units=64, activation=\"relu\"))\n",
        "\n",
        "    model.add(keras.layers.Dense(units=num_classes, activation=\"softmax\"))\n",
        "\n",
        "    model.compile(optimizer=\"adam\", loss=\"sparse_categorical_crossentropy\", metrics=[\"accuracy\"])\n",
        "    model.summary()\n",
        "\n",
        "    fit_model(model, 20)\n",
        "    score = get_final_accuracy(model, x_test, y_test)\n",
        "    print(\"\")\n",
        "\n",
        "    fc_scores[model.name] = score"
      ],
      "execution_count": null,
      "outputs": [
        {
          "output_type": "stream",
          "text": [
            "Model: \"cnn_model_4_conv_2_fc\"\n",
            "_________________________________________________________________\n",
            "Layer (type)                 Output Shape              Param #   \n",
            "=================================================================\n",
            "conv2d_59 (Conv2D)           (None, 28, 28, 32)        896       \n",
            "_________________________________________________________________\n",
            "conv2d_60 (Conv2D)           (None, 28, 28, 32)        9248      \n",
            "_________________________________________________________________\n",
            "conv2d_61 (Conv2D)           (None, 28, 28, 32)        9248      \n",
            "_________________________________________________________________\n",
            "conv2d_62 (Conv2D)           (None, 28, 28, 32)        9248      \n",
            "_________________________________________________________________\n",
            "flatten_11 (Flatten)         (None, 25088)             0         \n",
            "_________________________________________________________________\n",
            "dense_23 (Dense)             (None, 64)                1605696   \n",
            "_________________________________________________________________\n",
            "dense_24 (Dense)             (None, 64)                4160      \n",
            "_________________________________________________________________\n",
            "dense_25 (Dense)             (None, 5)                 325       \n",
            "=================================================================\n",
            "Total params: 1,638,821\n",
            "Trainable params: 1,638,821\n",
            "Non-trainable params: 0\n",
            "_________________________________________________________________\n",
            "Found weights and training history for cnn_model_4_conv_2_fc at:\n",
            "/content/drive/MyDrive/DeepLearning/Challenge/Models/cnn_model_4_conv_2_fc.h5\n",
            "/content/drive/MyDrive/DeepLearning/Challenge/Models/cnn_model_4_conv_2_fc.history\n",
            "Final accuracy for cnn_model_4_conv_2_fc: 94.15%\n",
            "\n",
            "Model: \"cnn_model_4_conv_3_fc\"\n",
            "_________________________________________________________________\n",
            "Layer (type)                 Output Shape              Param #   \n",
            "=================================================================\n",
            "conv2d_63 (Conv2D)           (None, 28, 28, 32)        896       \n",
            "_________________________________________________________________\n",
            "conv2d_64 (Conv2D)           (None, 28, 28, 32)        9248      \n",
            "_________________________________________________________________\n",
            "conv2d_65 (Conv2D)           (None, 28, 28, 32)        9248      \n",
            "_________________________________________________________________\n",
            "conv2d_66 (Conv2D)           (None, 28, 28, 32)        9248      \n",
            "_________________________________________________________________\n",
            "flatten_12 (Flatten)         (None, 25088)             0         \n",
            "_________________________________________________________________\n",
            "dense_26 (Dense)             (None, 64)                1605696   \n",
            "_________________________________________________________________\n",
            "dense_27 (Dense)             (None, 64)                4160      \n",
            "_________________________________________________________________\n",
            "dense_28 (Dense)             (None, 64)                4160      \n",
            "_________________________________________________________________\n",
            "dense_29 (Dense)             (None, 5)                 325       \n",
            "=================================================================\n",
            "Total params: 1,642,981\n",
            "Trainable params: 1,642,981\n",
            "Non-trainable params: 0\n",
            "_________________________________________________________________\n",
            "Found weights and training history for cnn_model_4_conv_3_fc at:\n",
            "/content/drive/MyDrive/DeepLearning/Challenge/Models/cnn_model_4_conv_3_fc.h5\n",
            "/content/drive/MyDrive/DeepLearning/Challenge/Models/cnn_model_4_conv_3_fc.history\n",
            "Final accuracy for cnn_model_4_conv_3_fc: 94.07%\n",
            "\n",
            "Model: \"cnn_model_4_conv_4_fc\"\n",
            "_________________________________________________________________\n",
            "Layer (type)                 Output Shape              Param #   \n",
            "=================================================================\n",
            "conv2d_67 (Conv2D)           (None, 28, 28, 32)        896       \n",
            "_________________________________________________________________\n",
            "conv2d_68 (Conv2D)           (None, 28, 28, 32)        9248      \n",
            "_________________________________________________________________\n",
            "conv2d_69 (Conv2D)           (None, 28, 28, 32)        9248      \n",
            "_________________________________________________________________\n",
            "conv2d_70 (Conv2D)           (None, 28, 28, 32)        9248      \n",
            "_________________________________________________________________\n",
            "flatten_13 (Flatten)         (None, 25088)             0         \n",
            "_________________________________________________________________\n",
            "dense_30 (Dense)             (None, 64)                1605696   \n",
            "_________________________________________________________________\n",
            "dense_31 (Dense)             (None, 64)                4160      \n",
            "_________________________________________________________________\n",
            "dense_32 (Dense)             (None, 64)                4160      \n",
            "_________________________________________________________________\n",
            "dense_33 (Dense)             (None, 64)                4160      \n",
            "_________________________________________________________________\n",
            "dense_34 (Dense)             (None, 5)                 325       \n",
            "=================================================================\n",
            "Total params: 1,647,141\n",
            "Trainable params: 1,647,141\n",
            "Non-trainable params: 0\n",
            "_________________________________________________________________\n",
            "Found weights and training history for cnn_model_4_conv_4_fc at:\n",
            "/content/drive/MyDrive/DeepLearning/Challenge/Models/cnn_model_4_conv_4_fc.h5\n",
            "/content/drive/MyDrive/DeepLearning/Challenge/Models/cnn_model_4_conv_4_fc.history\n",
            "Final accuracy for cnn_model_4_conv_4_fc: 93.88%\n",
            "\n",
            "Model: \"cnn_model_4_conv_5_fc\"\n",
            "_________________________________________________________________\n",
            "Layer (type)                 Output Shape              Param #   \n",
            "=================================================================\n",
            "conv2d_71 (Conv2D)           (None, 28, 28, 32)        896       \n",
            "_________________________________________________________________\n",
            "conv2d_72 (Conv2D)           (None, 28, 28, 32)        9248      \n",
            "_________________________________________________________________\n",
            "conv2d_73 (Conv2D)           (None, 28, 28, 32)        9248      \n",
            "_________________________________________________________________\n",
            "conv2d_74 (Conv2D)           (None, 28, 28, 32)        9248      \n",
            "_________________________________________________________________\n",
            "flatten_14 (Flatten)         (None, 25088)             0         \n",
            "_________________________________________________________________\n",
            "dense_35 (Dense)             (None, 64)                1605696   \n",
            "_________________________________________________________________\n",
            "dense_36 (Dense)             (None, 64)                4160      \n",
            "_________________________________________________________________\n",
            "dense_37 (Dense)             (None, 64)                4160      \n",
            "_________________________________________________________________\n",
            "dense_38 (Dense)             (None, 64)                4160      \n",
            "_________________________________________________________________\n",
            "dense_39 (Dense)             (None, 64)                4160      \n",
            "_________________________________________________________________\n",
            "dense_40 (Dense)             (None, 5)                 325       \n",
            "=================================================================\n",
            "Total params: 1,651,301\n",
            "Trainable params: 1,651,301\n",
            "Non-trainable params: 0\n",
            "_________________________________________________________________\n",
            "Found weights and training history for cnn_model_4_conv_5_fc at:\n",
            "/content/drive/MyDrive/DeepLearning/Challenge/Models/cnn_model_4_conv_5_fc.h5\n",
            "/content/drive/MyDrive/DeepLearning/Challenge/Models/cnn_model_4_conv_5_fc.history\n",
            "Final accuracy for cnn_model_4_conv_5_fc: 94.24%\n",
            "\n",
            "Model: \"cnn_model_8_conv_2_fc\"\n",
            "_________________________________________________________________\n",
            "Layer (type)                 Output Shape              Param #   \n",
            "=================================================================\n",
            "conv2d_75 (Conv2D)           (None, 28, 28, 32)        896       \n",
            "_________________________________________________________________\n",
            "conv2d_76 (Conv2D)           (None, 28, 28, 32)        9248      \n",
            "_________________________________________________________________\n",
            "conv2d_77 (Conv2D)           (None, 28, 28, 32)        9248      \n",
            "_________________________________________________________________\n",
            "conv2d_78 (Conv2D)           (None, 28, 28, 32)        9248      \n",
            "_________________________________________________________________\n",
            "conv2d_79 (Conv2D)           (None, 28, 28, 32)        9248      \n",
            "_________________________________________________________________\n",
            "conv2d_80 (Conv2D)           (None, 28, 28, 32)        9248      \n",
            "_________________________________________________________________\n",
            "conv2d_81 (Conv2D)           (None, 28, 28, 32)        9248      \n",
            "_________________________________________________________________\n",
            "conv2d_82 (Conv2D)           (None, 28, 28, 32)        9248      \n",
            "_________________________________________________________________\n",
            "flatten_15 (Flatten)         (None, 25088)             0         \n",
            "_________________________________________________________________\n",
            "dense_41 (Dense)             (None, 64)                1605696   \n",
            "_________________________________________________________________\n",
            "dense_42 (Dense)             (None, 64)                4160      \n",
            "_________________________________________________________________\n",
            "dense_43 (Dense)             (None, 5)                 325       \n",
            "=================================================================\n",
            "Total params: 1,675,813\n",
            "Trainable params: 1,675,813\n",
            "Non-trainable params: 0\n",
            "_________________________________________________________________\n",
            "Found weights and training history for cnn_model_8_conv_2_fc at:\n",
            "/content/drive/MyDrive/DeepLearning/Challenge/Models/cnn_model_8_conv_2_fc.h5\n",
            "/content/drive/MyDrive/DeepLearning/Challenge/Models/cnn_model_8_conv_2_fc.history\n",
            "Final accuracy for cnn_model_8_conv_2_fc: 94.43%\n",
            "\n",
            "Model: \"cnn_model_8_conv_3_fc\"\n",
            "_________________________________________________________________\n",
            "Layer (type)                 Output Shape              Param #   \n",
            "=================================================================\n",
            "conv2d_83 (Conv2D)           (None, 28, 28, 32)        896       \n",
            "_________________________________________________________________\n",
            "conv2d_84 (Conv2D)           (None, 28, 28, 32)        9248      \n",
            "_________________________________________________________________\n",
            "conv2d_85 (Conv2D)           (None, 28, 28, 32)        9248      \n",
            "_________________________________________________________________\n",
            "conv2d_86 (Conv2D)           (None, 28, 28, 32)        9248      \n",
            "_________________________________________________________________\n",
            "conv2d_87 (Conv2D)           (None, 28, 28, 32)        9248      \n",
            "_________________________________________________________________\n",
            "conv2d_88 (Conv2D)           (None, 28, 28, 32)        9248      \n",
            "_________________________________________________________________\n",
            "conv2d_89 (Conv2D)           (None, 28, 28, 32)        9248      \n",
            "_________________________________________________________________\n",
            "conv2d_90 (Conv2D)           (None, 28, 28, 32)        9248      \n",
            "_________________________________________________________________\n",
            "flatten_16 (Flatten)         (None, 25088)             0         \n",
            "_________________________________________________________________\n",
            "dense_44 (Dense)             (None, 64)                1605696   \n",
            "_________________________________________________________________\n",
            "dense_45 (Dense)             (None, 64)                4160      \n",
            "_________________________________________________________________\n",
            "dense_46 (Dense)             (None, 64)                4160      \n",
            "_________________________________________________________________\n",
            "dense_47 (Dense)             (None, 5)                 325       \n",
            "=================================================================\n",
            "Total params: 1,679,973\n",
            "Trainable params: 1,679,973\n",
            "Non-trainable params: 0\n",
            "_________________________________________________________________\n",
            "Found weights and training history for cnn_model_8_conv_3_fc at:\n",
            "/content/drive/MyDrive/DeepLearning/Challenge/Models/cnn_model_8_conv_3_fc.h5\n",
            "/content/drive/MyDrive/DeepLearning/Challenge/Models/cnn_model_8_conv_3_fc.history\n",
            "Final accuracy for cnn_model_8_conv_3_fc: 93.84%\n",
            "\n",
            "Model: \"cnn_model_8_conv_4_fc\"\n",
            "_________________________________________________________________\n",
            "Layer (type)                 Output Shape              Param #   \n",
            "=================================================================\n",
            "conv2d_91 (Conv2D)           (None, 28, 28, 32)        896       \n",
            "_________________________________________________________________\n",
            "conv2d_92 (Conv2D)           (None, 28, 28, 32)        9248      \n",
            "_________________________________________________________________\n",
            "conv2d_93 (Conv2D)           (None, 28, 28, 32)        9248      \n",
            "_________________________________________________________________\n",
            "conv2d_94 (Conv2D)           (None, 28, 28, 32)        9248      \n",
            "_________________________________________________________________\n",
            "conv2d_95 (Conv2D)           (None, 28, 28, 32)        9248      \n",
            "_________________________________________________________________\n",
            "conv2d_96 (Conv2D)           (None, 28, 28, 32)        9248      \n",
            "_________________________________________________________________\n",
            "conv2d_97 (Conv2D)           (None, 28, 28, 32)        9248      \n",
            "_________________________________________________________________\n",
            "conv2d_98 (Conv2D)           (None, 28, 28, 32)        9248      \n",
            "_________________________________________________________________\n",
            "flatten_17 (Flatten)         (None, 25088)             0         \n",
            "_________________________________________________________________\n",
            "dense_48 (Dense)             (None, 64)                1605696   \n",
            "_________________________________________________________________\n",
            "dense_49 (Dense)             (None, 64)                4160      \n",
            "_________________________________________________________________\n",
            "dense_50 (Dense)             (None, 64)                4160      \n",
            "_________________________________________________________________\n",
            "dense_51 (Dense)             (None, 64)                4160      \n",
            "_________________________________________________________________\n",
            "dense_52 (Dense)             (None, 5)                 325       \n",
            "=================================================================\n",
            "Total params: 1,684,133\n",
            "Trainable params: 1,684,133\n",
            "Non-trainable params: 0\n",
            "_________________________________________________________________\n",
            "Found weights and training history for cnn_model_8_conv_4_fc at:\n",
            "/content/drive/MyDrive/DeepLearning/Challenge/Models/cnn_model_8_conv_4_fc.h5\n",
            "/content/drive/MyDrive/DeepLearning/Challenge/Models/cnn_model_8_conv_4_fc.history\n",
            "Final accuracy for cnn_model_8_conv_4_fc: 94.06%\n",
            "\n",
            "Model: \"cnn_model_8_conv_5_fc\"\n",
            "_________________________________________________________________\n",
            "Layer (type)                 Output Shape              Param #   \n",
            "=================================================================\n",
            "conv2d_99 (Conv2D)           (None, 28, 28, 32)        896       \n",
            "_________________________________________________________________\n",
            "conv2d_100 (Conv2D)          (None, 28, 28, 32)        9248      \n",
            "_________________________________________________________________\n",
            "conv2d_101 (Conv2D)          (None, 28, 28, 32)        9248      \n",
            "_________________________________________________________________\n",
            "conv2d_102 (Conv2D)          (None, 28, 28, 32)        9248      \n",
            "_________________________________________________________________\n",
            "conv2d_103 (Conv2D)          (None, 28, 28, 32)        9248      \n",
            "_________________________________________________________________\n",
            "conv2d_104 (Conv2D)          (None, 28, 28, 32)        9248      \n",
            "_________________________________________________________________\n",
            "conv2d_105 (Conv2D)          (None, 28, 28, 32)        9248      \n",
            "_________________________________________________________________\n",
            "conv2d_106 (Conv2D)          (None, 28, 28, 32)        9248      \n",
            "_________________________________________________________________\n",
            "flatten_18 (Flatten)         (None, 25088)             0         \n",
            "_________________________________________________________________\n",
            "dense_53 (Dense)             (None, 64)                1605696   \n",
            "_________________________________________________________________\n",
            "dense_54 (Dense)             (None, 64)                4160      \n",
            "_________________________________________________________________\n",
            "dense_55 (Dense)             (None, 64)                4160      \n",
            "_________________________________________________________________\n",
            "dense_56 (Dense)             (None, 64)                4160      \n",
            "_________________________________________________________________\n",
            "dense_57 (Dense)             (None, 64)                4160      \n",
            "_________________________________________________________________\n",
            "dense_58 (Dense)             (None, 5)                 325       \n",
            "=================================================================\n",
            "Total params: 1,688,293\n",
            "Trainable params: 1,688,293\n",
            "Non-trainable params: 0\n",
            "_________________________________________________________________\n",
            "Found weights and training history for cnn_model_8_conv_5_fc at:\n",
            "/content/drive/MyDrive/DeepLearning/Challenge/Models/cnn_model_8_conv_5_fc.h5\n",
            "/content/drive/MyDrive/DeepLearning/Challenge/Models/cnn_model_8_conv_5_fc.history\n",
            "Final accuracy for cnn_model_8_conv_5_fc: 94.14%\n",
            "\n",
            "Model: \"cnn_model_9_conv_2_fc\"\n",
            "_________________________________________________________________\n",
            "Layer (type)                 Output Shape              Param #   \n",
            "=================================================================\n",
            "conv2d_107 (Conv2D)          (None, 28, 28, 32)        896       \n",
            "_________________________________________________________________\n",
            "conv2d_108 (Conv2D)          (None, 28, 28, 32)        9248      \n",
            "_________________________________________________________________\n",
            "conv2d_109 (Conv2D)          (None, 28, 28, 32)        9248      \n",
            "_________________________________________________________________\n",
            "conv2d_110 (Conv2D)          (None, 28, 28, 32)        9248      \n",
            "_________________________________________________________________\n",
            "conv2d_111 (Conv2D)          (None, 28, 28, 32)        9248      \n",
            "_________________________________________________________________\n",
            "conv2d_112 (Conv2D)          (None, 28, 28, 32)        9248      \n",
            "_________________________________________________________________\n",
            "conv2d_113 (Conv2D)          (None, 28, 28, 32)        9248      \n",
            "_________________________________________________________________\n",
            "conv2d_114 (Conv2D)          (None, 28, 28, 32)        9248      \n",
            "_________________________________________________________________\n",
            "conv2d_115 (Conv2D)          (None, 28, 28, 32)        9248      \n",
            "_________________________________________________________________\n",
            "flatten_19 (Flatten)         (None, 25088)             0         \n",
            "_________________________________________________________________\n",
            "dense_59 (Dense)             (None, 64)                1605696   \n",
            "_________________________________________________________________\n",
            "dense_60 (Dense)             (None, 64)                4160      \n",
            "_________________________________________________________________\n",
            "dense_61 (Dense)             (None, 5)                 325       \n",
            "=================================================================\n",
            "Total params: 1,685,061\n",
            "Trainable params: 1,685,061\n",
            "Non-trainable params: 0\n",
            "_________________________________________________________________\n",
            "Found weights and training history for cnn_model_9_conv_2_fc at:\n",
            "/content/drive/MyDrive/DeepLearning/Challenge/Models/cnn_model_9_conv_2_fc.h5\n",
            "/content/drive/MyDrive/DeepLearning/Challenge/Models/cnn_model_9_conv_2_fc.history\n",
            "Final accuracy for cnn_model_9_conv_2_fc: 94.25%\n",
            "\n",
            "Model: \"cnn_model_9_conv_3_fc\"\n",
            "_________________________________________________________________\n",
            "Layer (type)                 Output Shape              Param #   \n",
            "=================================================================\n",
            "conv2d_116 (Conv2D)          (None, 28, 28, 32)        896       \n",
            "_________________________________________________________________\n",
            "conv2d_117 (Conv2D)          (None, 28, 28, 32)        9248      \n",
            "_________________________________________________________________\n",
            "conv2d_118 (Conv2D)          (None, 28, 28, 32)        9248      \n",
            "_________________________________________________________________\n",
            "conv2d_119 (Conv2D)          (None, 28, 28, 32)        9248      \n",
            "_________________________________________________________________\n",
            "conv2d_120 (Conv2D)          (None, 28, 28, 32)        9248      \n",
            "_________________________________________________________________\n",
            "conv2d_121 (Conv2D)          (None, 28, 28, 32)        9248      \n",
            "_________________________________________________________________\n",
            "conv2d_122 (Conv2D)          (None, 28, 28, 32)        9248      \n",
            "_________________________________________________________________\n",
            "conv2d_123 (Conv2D)          (None, 28, 28, 32)        9248      \n",
            "_________________________________________________________________\n",
            "conv2d_124 (Conv2D)          (None, 28, 28, 32)        9248      \n",
            "_________________________________________________________________\n",
            "flatten_20 (Flatten)         (None, 25088)             0         \n",
            "_________________________________________________________________\n",
            "dense_62 (Dense)             (None, 64)                1605696   \n",
            "_________________________________________________________________\n",
            "dense_63 (Dense)             (None, 64)                4160      \n",
            "_________________________________________________________________\n",
            "dense_64 (Dense)             (None, 64)                4160      \n",
            "_________________________________________________________________\n",
            "dense_65 (Dense)             (None, 5)                 325       \n",
            "=================================================================\n",
            "Total params: 1,689,221\n",
            "Trainable params: 1,689,221\n",
            "Non-trainable params: 0\n",
            "_________________________________________________________________\n",
            "Found weights and training history for cnn_model_9_conv_3_fc at:\n",
            "/content/drive/MyDrive/DeepLearning/Challenge/Models/cnn_model_9_conv_3_fc.h5\n",
            "/content/drive/MyDrive/DeepLearning/Challenge/Models/cnn_model_9_conv_3_fc.history\n",
            "Final accuracy for cnn_model_9_conv_3_fc: 93.84%\n",
            "\n",
            "Model: \"cnn_model_9_conv_4_fc\"\n",
            "_________________________________________________________________\n",
            "Layer (type)                 Output Shape              Param #   \n",
            "=================================================================\n",
            "conv2d_125 (Conv2D)          (None, 28, 28, 32)        896       \n",
            "_________________________________________________________________\n",
            "conv2d_126 (Conv2D)          (None, 28, 28, 32)        9248      \n",
            "_________________________________________________________________\n",
            "conv2d_127 (Conv2D)          (None, 28, 28, 32)        9248      \n",
            "_________________________________________________________________\n",
            "conv2d_128 (Conv2D)          (None, 28, 28, 32)        9248      \n",
            "_________________________________________________________________\n",
            "conv2d_129 (Conv2D)          (None, 28, 28, 32)        9248      \n",
            "_________________________________________________________________\n",
            "conv2d_130 (Conv2D)          (None, 28, 28, 32)        9248      \n",
            "_________________________________________________________________\n",
            "conv2d_131 (Conv2D)          (None, 28, 28, 32)        9248      \n",
            "_________________________________________________________________\n",
            "conv2d_132 (Conv2D)          (None, 28, 28, 32)        9248      \n",
            "_________________________________________________________________\n",
            "conv2d_133 (Conv2D)          (None, 28, 28, 32)        9248      \n",
            "_________________________________________________________________\n",
            "flatten_21 (Flatten)         (None, 25088)             0         \n",
            "_________________________________________________________________\n",
            "dense_66 (Dense)             (None, 64)                1605696   \n",
            "_________________________________________________________________\n",
            "dense_67 (Dense)             (None, 64)                4160      \n",
            "_________________________________________________________________\n",
            "dense_68 (Dense)             (None, 64)                4160      \n",
            "_________________________________________________________________\n",
            "dense_69 (Dense)             (None, 64)                4160      \n",
            "_________________________________________________________________\n",
            "dense_70 (Dense)             (None, 5)                 325       \n",
            "=================================================================\n",
            "Total params: 1,693,381\n",
            "Trainable params: 1,693,381\n",
            "Non-trainable params: 0\n",
            "_________________________________________________________________\n",
            "Found weights and training history for cnn_model_9_conv_4_fc at:\n",
            "/content/drive/MyDrive/DeepLearning/Challenge/Models/cnn_model_9_conv_4_fc.h5\n",
            "/content/drive/MyDrive/DeepLearning/Challenge/Models/cnn_model_9_conv_4_fc.history\n",
            "Final accuracy for cnn_model_9_conv_4_fc: 93.98%\n",
            "\n",
            "Model: \"cnn_model_9_conv_5_fc\"\n",
            "_________________________________________________________________\n",
            "Layer (type)                 Output Shape              Param #   \n",
            "=================================================================\n",
            "conv2d_134 (Conv2D)          (None, 28, 28, 32)        896       \n",
            "_________________________________________________________________\n",
            "conv2d_135 (Conv2D)          (None, 28, 28, 32)        9248      \n",
            "_________________________________________________________________\n",
            "conv2d_136 (Conv2D)          (None, 28, 28, 32)        9248      \n",
            "_________________________________________________________________\n",
            "conv2d_137 (Conv2D)          (None, 28, 28, 32)        9248      \n",
            "_________________________________________________________________\n",
            "conv2d_138 (Conv2D)          (None, 28, 28, 32)        9248      \n",
            "_________________________________________________________________\n",
            "conv2d_139 (Conv2D)          (None, 28, 28, 32)        9248      \n",
            "_________________________________________________________________\n",
            "conv2d_140 (Conv2D)          (None, 28, 28, 32)        9248      \n",
            "_________________________________________________________________\n",
            "conv2d_141 (Conv2D)          (None, 28, 28, 32)        9248      \n",
            "_________________________________________________________________\n",
            "conv2d_142 (Conv2D)          (None, 28, 28, 32)        9248      \n",
            "_________________________________________________________________\n",
            "flatten_22 (Flatten)         (None, 25088)             0         \n",
            "_________________________________________________________________\n",
            "dense_71 (Dense)             (None, 64)                1605696   \n",
            "_________________________________________________________________\n",
            "dense_72 (Dense)             (None, 64)                4160      \n",
            "_________________________________________________________________\n",
            "dense_73 (Dense)             (None, 64)                4160      \n",
            "_________________________________________________________________\n",
            "dense_74 (Dense)             (None, 64)                4160      \n",
            "_________________________________________________________________\n",
            "dense_75 (Dense)             (None, 64)                4160      \n",
            "_________________________________________________________________\n",
            "dense_76 (Dense)             (None, 5)                 325       \n",
            "=================================================================\n",
            "Total params: 1,697,541\n",
            "Trainable params: 1,697,541\n",
            "Non-trainable params: 0\n",
            "_________________________________________________________________\n",
            "Found weights and training history for cnn_model_9_conv_5_fc at:\n",
            "/content/drive/MyDrive/DeepLearning/Challenge/Models/cnn_model_9_conv_5_fc.h5\n",
            "/content/drive/MyDrive/DeepLearning/Challenge/Models/cnn_model_9_conv_5_fc.history\n",
            "Final accuracy for cnn_model_9_conv_5_fc: 94.07%\n",
            "\n"
          ],
          "name": "stdout"
        }
      ]
    },
    {
      "cell_type": "code",
      "metadata": {
        "colab": {
          "base_uri": "https://localhost:8080/",
          "height": 357
        },
        "id": "lBrhOko54dCo",
        "outputId": "b69cb85f-d91a-4057-e532-3e0bf7305cbf"
      },
      "source": [
        "plot_dict(scores, 94, 95, (30, 7))"
      ],
      "execution_count": null,
      "outputs": [
        {
          "output_type": "display_data",
          "data": {
            "image/png": "[encoded data removed]",
            "text/plain": [
              "<Figure size 2160x504 with 1 Axes>"
            ]
          },
          "metadata": {
            "tags": [],
            "needs_background": "light"
          }
        }
      ]
    },
    {
      "cell_type": "markdown",
      "metadata": {
        "id": "I3bjfcglDqR9"
      },
      "source": [
        "The model with 8 Convolution and 2 Fully Connected layers scored best."
      ]
    },
    {
      "cell_type": "markdown",
      "metadata": {
        "id": "7t4gUpqoxr2k"
      },
      "source": [
        "##### Adding MaxPooling and Dropout"
      ]
    },
    {
      "cell_type": "markdown",
      "metadata": {
        "id": "ZOP3AjizfgRa"
      },
      "source": [
        "The last step is to add Pooling and Dropout layers. At this step it is hard to create an algorithm to determine the best configurations because there are so many different options. After trying out many configurations of MaxPooling and Dropout layers the below code is the final result. Dropout after each \"block\" and in between the convolutions. MaxPooling also in between the Convolution layers."
      ]
    },
    {
      "cell_type": "code",
      "metadata": {
        "id": "WdVBGak670RM"
      },
      "source": [
        "def create_cnn_model():\n",
        "  model = keras.Sequential(name=\"cnn_model\")\n",
        "\n",
        "  model.add(keras.layers.Conv2D(filters=32, kernel_size=(3,3), padding=\"same\", activation=\"relu\", input_shape=(image_height, image_width, image_channels)))\n",
        "  model.add(keras.layers.Conv2D(filters=32, kernel_size=(3,3), padding=\"same\", activation=\"relu\"))\n",
        "  model.add(keras.layers.Conv2D(filters=32, kernel_size=(3,3), padding=\"same\", activation=\"relu\"))\n",
        "  model.add(keras.layers.MaxPooling2D())\n",
        "  model.add(keras.layers.Conv2D(filters=32, kernel_size=(3,3), padding=\"same\", activation=\"relu\"))\n",
        "  model.add(keras.layers.Conv2D(filters=32, kernel_size=(3,3), padding=\"same\", activation=\"relu\"))\n",
        "\n",
        "  model.add(keras.layers.Dropout(rate=0.3))\n",
        "\n",
        "  model.add(keras.layers.Conv2D(filters=32, kernel_size=(3,3), padding=\"same\", activation=\"relu\"))\n",
        "  model.add(keras.layers.MaxPooling2D())\n",
        "  model.add(keras.layers.Conv2D(filters=32, kernel_size=(3,3), padding=\"same\", activation=\"relu\"))\n",
        "  model.add(keras.layers.Conv2D(filters=32, kernel_size=(3,3), padding=\"same\", activation=\"relu\"))\n",
        "\n",
        "  model.add(keras.layers.Dropout(rate=0.3))\n",
        "  model.add(keras.layers.Flatten())\n",
        "\n",
        "  model.add(keras.layers.Dense(units=64, activation=\"relu\"))\n",
        "  model.add(keras.layers.Dropout(rate=0.3))\n",
        "  model.add(keras.layers.Dense(units=64, activation=\"relu\"))\n",
        "  model.add(keras.layers.Dropout(rate=0.3))\n",
        "\n",
        "  model.add(keras.layers.Dense(units=num_classes, activation=\"softmax\"))\n",
        "\n",
        "  model.compile(optimizer=\"adam\", loss=\"sparse_categorical_crossentropy\", metrics=[\"accuracy\"])\n",
        "\n",
        "  return model"
      ],
      "execution_count": null,
      "outputs": []
    },
    {
      "cell_type": "code",
      "metadata": {
        "colab": {
          "base_uri": "https://localhost:8080/",
          "height": 1000
        },
        "id": "za75sINe-TLI",
        "outputId": "364065ae-f706-4d51-8ef0-a014d2183ebe"
      },
      "source": [
        "cnn_model = create_cnn_model()\n",
        "process_model(cnn_model, epochs=20, fitting_verbose=1)"
      ],
      "execution_count": null,
      "outputs": [
        {
          "output_type": "stream",
          "text": [
            "Model: \"cnn_model\"\n",
            "_________________________________________________________________\n",
            "Layer (type)                 Output Shape              Param #   \n",
            "=================================================================\n",
            "conv2d_92 (Conv2D)           (None, 28, 28, 32)        896       \n",
            "_________________________________________________________________\n",
            "conv2d_93 (Conv2D)           (None, 28, 28, 32)        9248      \n",
            "_________________________________________________________________\n",
            "conv2d_94 (Conv2D)           (None, 28, 28, 32)        9248      \n",
            "_________________________________________________________________\n",
            "max_pooling2d_26 (MaxPooling (None, 14, 14, 32)        0         \n",
            "_________________________________________________________________\n",
            "conv2d_95 (Conv2D)           (None, 14, 14, 32)        9248      \n",
            "_________________________________________________________________\n",
            "conv2d_96 (Conv2D)           (None, 14, 14, 32)        9248      \n",
            "_________________________________________________________________\n",
            "dropout_32 (Dropout)         (None, 14, 14, 32)        0         \n",
            "_________________________________________________________________\n",
            "conv2d_97 (Conv2D)           (None, 14, 14, 32)        9248      \n",
            "_________________________________________________________________\n",
            "max_pooling2d_27 (MaxPooling (None, 7, 7, 32)          0         \n",
            "_________________________________________________________________\n",
            "conv2d_98 (Conv2D)           (None, 7, 7, 32)          9248      \n",
            "_________________________________________________________________\n",
            "conv2d_99 (Conv2D)           (None, 7, 7, 32)          9248      \n",
            "_________________________________________________________________\n",
            "dropout_33 (Dropout)         (None, 7, 7, 32)          0         \n",
            "_________________________________________________________________\n",
            "flatten_12 (Flatten)         (None, 1568)              0         \n",
            "_________________________________________________________________\n",
            "dense_36 (Dense)             (None, 64)                100416    \n",
            "_________________________________________________________________\n",
            "dropout_34 (Dropout)         (None, 64)                0         \n",
            "_________________________________________________________________\n",
            "dense_37 (Dense)             (None, 64)                4160      \n",
            "_________________________________________________________________\n",
            "dropout_35 (Dropout)         (None, 64)                0         \n",
            "_________________________________________________________________\n",
            "dense_38 (Dense)             (None, 5)                 325       \n",
            "=================================================================\n",
            "Total params: 170,533\n",
            "Trainable params: 170,533\n",
            "Non-trainable params: 0\n",
            "_________________________________________________________________\n",
            "\n",
            "\n",
            "Fitting cnn_model ...\n",
            "\n",
            "Epoch 1/20\n",
            "1875/1875 [==============================] - 13s 7ms/step - loss: 0.4631 - accuracy: 0.8461 - val_loss: 0.2374 - val_accuracy: 0.9226\n",
            "Epoch 2/20\n",
            "1875/1875 [==============================] - 13s 7ms/step - loss: 0.2436 - accuracy: 0.9228 - val_loss: 0.1889 - val_accuracy: 0.9383\n",
            "Epoch 3/20\n",
            "1875/1875 [==============================] - 12s 6ms/step - loss: 0.2070 - accuracy: 0.9330 - val_loss: 0.1701 - val_accuracy: 0.9432\n",
            "Epoch 4/20\n",
            "1875/1875 [==============================] - 13s 7ms/step - loss: 0.1836 - accuracy: 0.9416 - val_loss: 0.1466 - val_accuracy: 0.9506\n",
            "Epoch 5/20\n",
            "1875/1875 [==============================] - 12s 6ms/step - loss: 0.1718 - accuracy: 0.9447 - val_loss: 0.1473 - val_accuracy: 0.9506\n",
            "Epoch 6/20\n",
            "1875/1875 [==============================] - 12s 7ms/step - loss: 0.1601 - accuracy: 0.9476 - val_loss: 0.1419 - val_accuracy: 0.9517\n",
            "Epoch 7/20\n",
            "1875/1875 [==============================] - 12s 6ms/step - loss: 0.1547 - accuracy: 0.9495 - val_loss: 0.1418 - val_accuracy: 0.9513\n",
            "Epoch 8/20\n",
            "1875/1875 [==============================] - 12s 6ms/step - loss: 0.1450 - accuracy: 0.9524 - val_loss: 0.1456 - val_accuracy: 0.9517\n",
            "Epoch 9/20\n",
            "1875/1875 [==============================] - 12s 6ms/step - loss: 0.1394 - accuracy: 0.9540 - val_loss: 0.1443 - val_accuracy: 0.9532\n",
            "Epoch 10/20\n",
            "1875/1875 [==============================] - 12s 6ms/step - loss: 0.1344 - accuracy: 0.9557 - val_loss: 0.1301 - val_accuracy: 0.9575\n",
            "Epoch 11/20\n",
            "1875/1875 [==============================] - 12s 6ms/step - loss: 0.1332 - accuracy: 0.9559 - val_loss: 0.1373 - val_accuracy: 0.9554\n",
            "Epoch 12/20\n",
            "1875/1875 [==============================] - 13s 7ms/step - loss: 0.1294 - accuracy: 0.9574 - val_loss: 0.1336 - val_accuracy: 0.9550\n",
            "Epoch 13/20\n",
            "1875/1875 [==============================] - 12s 6ms/step - loss: 0.1243 - accuracy: 0.9586 - val_loss: 0.1304 - val_accuracy: 0.9581\n",
            "Epoch 14/20\n",
            "1875/1875 [==============================] - 12s 6ms/step - loss: 0.1231 - accuracy: 0.9597 - val_loss: 0.1399 - val_accuracy: 0.9551\n",
            "Finished fitting!\n",
            "\n",
            "\n"
          ],
          "name": "stdout"
        },
        {
          "output_type": "display_data",
          "data": {
            "image/png": "[encoded data removed]",
            "text/plain": [
              "<Figure size 504x504 with 2 Axes>"
            ]
          },
          "metadata": {
            "tags": [],
            "needs_background": "light"
          }
        },
        {
          "output_type": "stream",
          "text": [
            "\n",
            "\n"
          ],
          "name": "stdout"
        },
        {
          "output_type": "display_data",
          "data": {
            "image/png": "[encoded data removed]",
            "text/plain": [
              "<Figure size 504x504 with 2 Axes>"
            ]
          },
          "metadata": {
            "tags": [],
            "needs_background": "light"
          }
        },
        {
          "output_type": "stream",
          "text": [
            "\n",
            "\n",
            "Final accuracy for cnn_model: 95.51%\n"
          ],
          "name": "stdout"
        },
        {
          "output_type": "execute_result",
          "data": {
            "text/plain": [
              "95.51"
            ]
          },
          "metadata": {
            "tags": []
          },
          "execution_count": 42
        }
      ]
    },
    {
      "cell_type": "markdown",
      "metadata": {
        "id": "0zLi6_ZWVle3"
      },
      "source": [
        "#### Tuning the hyperparameters of the CNN model"
      ]
    },
    {
      "cell_type": "markdown",
      "metadata": {
        "id": "E2Xtm0pHhQAY"
      },
      "source": [
        "The layer architecture of the model is now finished. It is time to fine tune the parameters. For this the Hyperband tuner is used."
      ]
    },
    {
      "cell_type": "code",
      "metadata": {
        "id": "yJsm1C0MxOKZ"
      },
      "source": [
        "def create_cnn_hypermodel(hp):\n",
        "  model = keras.Sequential()\n",
        "\n",
        "  hp_filters = hp.Int(\"conv1_filters\", min_value=16, max_value=256, step=16)\n",
        "  model.add(keras.layers.Conv2D(filters=hp_filters, kernel_size=(3,3), padding=\"same\", activation=\"relu\", input_shape=(image_height, image_width, image_channels)))\n",
        "\n",
        "  hp_filters = hp.Int(\"conv2_filters\", min_value=16, max_value=256, step=16)\n",
        "  model.add(keras.layers.Conv2D(filters=hp_filters, kernel_size=(3,3), padding=\"same\", activation=\"relu\"))\n",
        "  \n",
        "  hp_filters = hp.Int(\"conv3_filters\", min_value=16, max_value=256, step=16)\n",
        "  model.add(keras.layers.Conv2D(filters=hp_filters, kernel_size=(3,3), padding=\"same\", activation=\"relu\"))\n",
        "\n",
        "  model.add(keras.layers.MaxPooling2D())\n",
        "\n",
        "  hp_filters = hp.Int(\"conv4_filters\", min_value=16, max_value=256, step=16)\n",
        "  model.add(keras.layers.Conv2D(filters=hp_filters, kernel_size=(3,3), padding=\"same\", activation=\"relu\"))\n",
        "\n",
        "  hp_filters = hp.Int(\"conv5_filters\", min_value=16, max_value=256, step=16)\n",
        "  model.add(keras.layers.Conv2D(filters=hp_filters, kernel_size=(3,3), padding=\"same\", activation=\"relu\"))\n",
        "\n",
        "  hp_dropout = hp.Float(\"dropout1_rate\", min_value=0.1, max_value=0.5, step=0.1)\n",
        "  model.add(keras.layers.Dropout(rate=hp_dropout))\n",
        "\n",
        "  hp_filters = hp.Int(\"conv6_filters\", min_value=16, max_value=256, step=16)\n",
        "  model.add(keras.layers.Conv2D(filters=hp_filters, kernel_size=(3,3), padding=\"same\", activation=\"relu\"))\n",
        "\n",
        "  model.add(keras.layers.MaxPooling2D())\n",
        "  \n",
        "  hp_filters = hp.Int(\"conv7_filters\", min_value=16, max_value=256, step=16)\n",
        "  model.add(keras.layers.Conv2D(filters=hp_filters, kernel_size=(3,3), padding=\"same\", activation=\"relu\"))\n",
        "  \n",
        "  hp_filters = hp.Int(\"conv8_filters\", min_value=16, max_value=256, step=16)\n",
        "  model.add(keras.layers.Conv2D(filters=hp_filters, kernel_size=(3,3), padding=\"same\", activation=\"relu\"))\n",
        "\n",
        "  hp_dropout = hp.Float(\"dropout2_rate\", min_value=0.1, max_value=0.5, step=0.1)\n",
        "  model.add(keras.layers.Dropout(rate=hp_dropout))\n",
        "\n",
        "  model.add(keras.layers.Flatten())\n",
        "\n",
        "  hp_units = hp.Int(\"fc1_units\", min_value=32, max_value=512, step=32)\n",
        "  model.add(keras.layers.Dense(units=hp_units, activation=\"relu\"))\n",
        "\n",
        "  hp_dropout = hp.Float(\"dropout3_rate\", min_value=0.1, max_value=0.5, step=0.1)\n",
        "  model.add(keras.layers.Dropout(rate=hp_dropout))\n",
        "\n",
        "  hp_units = hp.Int(\"fc2_units\", min_value=32, max_value=512, step=32)\n",
        "  model.add(keras.layers.Dense(units=hp_units, activation=\"relu\"))\n",
        "\n",
        "  hp_dropout = hp.Float(\"dropout4_rate\", min_value=0.1, max_value=0.5, step=0.1)\n",
        "  model.add(keras.layers.Dropout(rate=0.3))\n",
        "\n",
        "  model.add(keras.layers.Dense(units=num_classes, activation=\"softmax\"))\n",
        "\n",
        "  hp_learning_rate = hp.Choice(\"learning_rate\", values=[0.001, 0.0001])\n",
        "  optimizer = keras.optimizers.Adam(learning_rate=hp_learning_rate)\n",
        "\n",
        "  loss = keras.losses.SparseCategoricalCrossentropy()\n",
        "\n",
        "  model.compile(optimizer=optimizer, loss=loss, metrics=[\"accuracy\"])\n",
        "  return model"
      ],
      "execution_count": null,
      "outputs": []
    },
    {
      "cell_type": "markdown",
      "metadata": {
        "id": "QD2KkFz_n0k3"
      },
      "source": [
        "The tuner uses an algorithm to quickly sort out the good parameters and finish the tuning in less time."
      ]
    },
    {
      "cell_type": "code",
      "metadata": {
        "colab": {
          "base_uri": "https://localhost:8080/"
        },
        "id": "S0uHjwjYzRKc",
        "outputId": "b3dfd24b-09cd-4ef5-d8d9-181761e11e14"
      },
      "source": [
        "tuner = kt.tuners.Hyperband(create_cnn_hypermodel,\n",
        "                     objective=\"val_accuracy\",\n",
        "                     max_epochs=10,\n",
        "                     factor=3,\n",
        "                     directory=model_dir,\n",
        "                     project_name=\"cnn_hypermodel\")"
      ],
      "execution_count": null,
      "outputs": [
        {
          "output_type": "stream",
          "text": [
            "INFO:tensorflow:Reloading Oracle from existing project /content/drive/MyDrive/DeepLearning/Challenge/Models/cnn_hypermodel/oracle.json\n",
            "INFO:tensorflow:Reloading Tuner from /content/drive/MyDrive/DeepLearning/Challenge/Models/cnn_hypermodel/tuner0.json\n"
          ],
          "name": "stdout"
        }
      ]
    },
    {
      "cell_type": "code",
      "metadata": {
        "colab": {
          "base_uri": "https://localhost:8080/"
        },
        "id": "i33k7_gczs6b",
        "outputId": "7fce9dde-3511-4f0b-9f74-d705c709188d"
      },
      "source": [
        "tuner.search(x_train, y_train, epochs=20, validation_data=(x_test, y_test), callbacks=get_callbacks(\"cnn_hypermodel\"))\n",
        "\n",
        "best_hps = tuner.get_best_hyperparameters(num_trials=1)[0]"
      ],
      "execution_count": null,
      "outputs": [
        {
          "output_type": "stream",
          "text": [
            "INFO:tensorflow:Oracle triggered exit\n"
          ],
          "name": "stdout"
        }
      ]
    },
    {
      "cell_type": "markdown",
      "metadata": {
        "id": "uJvCU0_8z-RJ"
      },
      "source": [
        "The Hyperband tuner eats up a lot of RAM so that the collab session terminates the runtime. Luckily the tuner saves all progress to the specified directory so that it can be rerun after the session exits."
      ]
    },
    {
      "cell_type": "code",
      "metadata": {
        "id": "FDNJpiDd-Qjm",
        "colab": {
          "base_uri": "https://localhost:8080/"
        },
        "outputId": "ecac2a4b-b7f7-4728-da6a-b994e506ea74"
      },
      "source": [
        "print(\"Best values:\")\n",
        "print(\"conv1_filters: \" + str(best_hps.get(\"conv1_filters\")))\n",
        "print(\"conv2_filters: \" + str(best_hps.get(\"conv2_filters\")))\n",
        "print(\"conv3_filters: \" + str(best_hps.get(\"conv3_filters\")))\n",
        "print(\"conv4_filters: \" + str(best_hps.get(\"conv4_filters\")))\n",
        "print(\"conv5_filters: \" + str(best_hps.get(\"conv5_filters\")))\n",
        "print(\"conv6_filters: \" + str(best_hps.get(\"conv6_filters\")))\n",
        "print(\"conv7_filters: \" + str(best_hps.get(\"conv7_filters\")))\n",
        "print(\"conv8_filters: \" + str(best_hps.get(\"conv8_filters\")))\n",
        "\n",
        "print(\"dropout1_rate: \" + str(best_hps.get(\"dropout1_rate\")))\n",
        "print(\"dropout2_rate: \" + str(best_hps.get(\"dropout2_rate\")))\n",
        "print(\"dropout3_rate: \" + str(best_hps.get(\"dropout3_rate\")))\n",
        "print(\"dropout4_rate: \" + str(best_hps.get(\"dropout4_rate\")))\n",
        "\n",
        "print(\"fc1_units: \" + str(best_hps.get(\"fc1_units\")))\n",
        "print(\"fc2_units: \" + str(best_hps.get(\"fc2_units\")))\n",
        "print(\"learning_rate: \" + str(best_hps.get(\"learning_rate\")))"
      ],
      "execution_count": null,
      "outputs": [
        {
          "output_type": "stream",
          "text": [
            "Best values:\n",
            "conv1_filters: 240\n",
            "conv2_filters: 240\n",
            "conv3_filters: 64\n",
            "conv4_filters: 112\n",
            "conv5_filters: 160\n",
            "conv6_filters: 176\n",
            "conv7_filters: 96\n",
            "conv8_filters: 240\n",
            "dropout1_rate: 0.2\n",
            "dropout2_rate: 0.4\n",
            "dropout3_rate: 0.2\n",
            "dropout4_rate: 0.30000000000000004\n",
            "fc1_units: 288\n",
            "fc2_units: 448\n",
            "learning_rate: 0.0001\n"
          ],
          "name": "stdout"
        }
      ]
    },
    {
      "cell_type": "markdown",
      "metadata": {
        "id": "pVKhlBHolan3"
      },
      "source": [
        "#### Create the final model"
      ]
    },
    {
      "cell_type": "markdown",
      "metadata": {
        "id": "MHC3zMnqm6BL"
      },
      "source": [
        "The best parameters have been determined now the final model needs to be created."
      ]
    },
    {
      "cell_type": "code",
      "metadata": {
        "id": "BxgLkF3imSb3"
      },
      "source": [
        "def create_final_model():\n",
        "  model = keras.Sequential(name=\"final_model\")\n",
        "\n",
        "  model.add(keras.layers.Conv2D(filters=best_hps.get(\"conv1_filters\"), kernel_size=(3,3), padding=\"same\", activation=\"relu\", input_shape=(image_height, image_width, image_channels)))\n",
        "  model.add(keras.layers.Conv2D(filters=best_hps.get(\"conv2_filters\"), kernel_size=(3,3), padding=\"same\", activation=\"relu\"))\n",
        "  model.add(keras.layers.Conv2D(filters=best_hps.get(\"conv3_filters\"), kernel_size=(3,3), padding=\"same\", activation=\"relu\"))\n",
        "  model.add(keras.layers.MaxPooling2D())\n",
        "  model.add(keras.layers.Conv2D(filters=best_hps.get(\"conv4_filters\"), kernel_size=(3,3), padding=\"same\", activation=\"relu\"))\n",
        "  model.add(keras.layers.Conv2D(filters=best_hps.get(\"conv5_filters\"), kernel_size=(3,3), padding=\"same\", activation=\"relu\"))\n",
        "\n",
        "  model.add(keras.layers.Dropout(rate=best_hps.get(\"dropout1_rate\")))\n",
        "\n",
        "  model.add(keras.layers.Conv2D(filters=best_hps.get(\"conv6_filters\"), kernel_size=(3,3), padding=\"same\", activation=\"relu\"))\n",
        "  model.add(keras.layers.MaxPooling2D())\n",
        "  model.add(keras.layers.Conv2D(filters=best_hps.get(\"conv7_filters\"), kernel_size=(3,3), padding=\"same\", activation=\"relu\"))\n",
        "  model.add(keras.layers.Conv2D(filters=best_hps.get(\"conv8_filters\"), kernel_size=(3,3), padding=\"same\", activation=\"relu\"))\n",
        "\n",
        "  model.add(keras.layers.Dropout(rate=best_hps.get(\"dropout2_rate\")))\n",
        "  model.add(keras.layers.Flatten())\n",
        "\n",
        "  model.add(keras.layers.Dense(units=best_hps.get(\"fc1_units\"), activation=\"relu\"))\n",
        "  model.add(keras.layers.Dropout(rate=best_hps.get(\"dropout3_rate\")))\n",
        "  model.add(keras.layers.Dense(units=best_hps.get(\"fc2_units\"), activation=\"relu\"))\n",
        "  model.add(keras.layers.Dropout(rate=best_hps.get(\"dropout4_rate\")))\n",
        "\n",
        "  model.add(keras.layers.Dense(units=num_classes, activation=\"softmax\"))\n",
        "\n",
        "  optimizer = keras.optimizers.Adam(learning_rate=best_hps.get(\"learning_rate\"))\n",
        "\n",
        "  model.compile(optimizer=optimizer, loss=\"sparse_categorical_crossentropy\", metrics=[\"accuracy\"])\n",
        "\n",
        "  return model"
      ],
      "execution_count": null,
      "outputs": []
    },
    {
      "cell_type": "markdown",
      "metadata": {
        "id": "Gx8YjdcIlf0I"
      },
      "source": [
        "After fitting the model with 20 epochs, it could be seen that the best accuracy was achieved at the 8th epoch."
      ]
    },
    {
      "cell_type": "code",
      "metadata": {
        "colab": {
          "base_uri": "https://localhost:8080/",
          "height": 1000
        },
        "id": "3ElnpxxPnBaq",
        "outputId": "0787da19-a3c0-4ae2-eaa0-ac9e08c4883a"
      },
      "source": [
        "final_model = create_final_model()\n",
        "process_model(final_model, epochs=8, fitting_verbose=1)"
      ],
      "execution_count": null,
      "outputs": [
        {
          "output_type": "stream",
          "text": [
            "Model: \"final_model\"\n",
            "_________________________________________________________________\n",
            "Layer (type)                 Output Shape              Param #   \n",
            "=================================================================\n",
            "conv2d_16 (Conv2D)           (None, 28, 28, 240)       6720      \n",
            "_________________________________________________________________\n",
            "conv2d_17 (Conv2D)           (None, 28, 28, 240)       518640    \n",
            "_________________________________________________________________\n",
            "conv2d_18 (Conv2D)           (None, 28, 28, 64)        138304    \n",
            "_________________________________________________________________\n",
            "max_pooling2d_4 (MaxPooling2 (None, 14, 14, 64)        0         \n",
            "_________________________________________________________________\n",
            "conv2d_19 (Conv2D)           (None, 14, 14, 112)       64624     \n",
            "_________________________________________________________________\n",
            "conv2d_20 (Conv2D)           (None, 14, 14, 160)       161440    \n",
            "_________________________________________________________________\n",
            "dropout_8 (Dropout)          (None, 14, 14, 160)       0         \n",
            "_________________________________________________________________\n",
            "conv2d_21 (Conv2D)           (None, 14, 14, 176)       253616    \n",
            "_________________________________________________________________\n",
            "max_pooling2d_5 (MaxPooling2 (None, 7, 7, 176)         0         \n",
            "_________________________________________________________________\n",
            "conv2d_22 (Conv2D)           (None, 7, 7, 96)          152160    \n",
            "_________________________________________________________________\n",
            "conv2d_23 (Conv2D)           (None, 7, 7, 240)         207600    \n",
            "_________________________________________________________________\n",
            "dropout_9 (Dropout)          (None, 7, 7, 240)         0         \n",
            "_________________________________________________________________\n",
            "flatten_2 (Flatten)          (None, 11760)             0         \n",
            "_________________________________________________________________\n",
            "dense_6 (Dense)              (None, 288)               3387168   \n",
            "_________________________________________________________________\n",
            "dropout_10 (Dropout)         (None, 288)               0         \n",
            "_________________________________________________________________\n",
            "dense_7 (Dense)              (None, 448)               129472    \n",
            "_________________________________________________________________\n",
            "dropout_11 (Dropout)         (None, 448)               0         \n",
            "_________________________________________________________________\n",
            "dense_8 (Dense)              (None, 5)                 2245      \n",
            "=================================================================\n",
            "Total params: 5,021,989\n",
            "Trainable params: 5,021,989\n",
            "Non-trainable params: 0\n",
            "_________________________________________________________________\n",
            "\n",
            "\n",
            "Fitting final_model ...\n",
            "\n",
            "Epoch 1/8\n",
            "1875/1875 [==============================] - 86s 29ms/step - loss: 0.3897 - accuracy: 0.8652 - val_loss: 0.2068 - val_accuracy: 0.9328\n",
            "Epoch 2/8\n",
            "1875/1875 [==============================] - 55s 29ms/step - loss: 0.1858 - accuracy: 0.9388 - val_loss: 0.1522 - val_accuracy: 0.9490\n",
            "Epoch 3/8\n",
            "1875/1875 [==============================] - 55s 29ms/step - loss: 0.1446 - accuracy: 0.9519 - val_loss: 0.1582 - val_accuracy: 0.9477\n",
            "Epoch 4/8\n",
            "1875/1875 [==============================] - 55s 29ms/step - loss: 0.1208 - accuracy: 0.9593 - val_loss: 0.1325 - val_accuracy: 0.9569\n",
            "Epoch 5/8\n",
            "1875/1875 [==============================] - 55s 29ms/step - loss: 0.1044 - accuracy: 0.9646 - val_loss: 0.1204 - val_accuracy: 0.9598\n",
            "Epoch 6/8\n",
            "1875/1875 [==============================] - 55s 29ms/step - loss: 0.0888 - accuracy: 0.9698 - val_loss: 0.1263 - val_accuracy: 0.9594\n",
            "Epoch 7/8\n",
            "1875/1875 [==============================] - 55s 29ms/step - loss: 0.0750 - accuracy: 0.9738 - val_loss: 0.1319 - val_accuracy: 0.9585\n",
            "Epoch 8/8\n",
            "1875/1875 [==============================] - 55s 29ms/step - loss: 0.0659 - accuracy: 0.9770 - val_loss: 0.1236 - val_accuracy: 0.9620\n",
            "Finished fitting!\n",
            "\n",
            "\n"
          ],
          "name": "stdout"
        },
        {
          "output_type": "display_data",
          "data": {
            "image/png": "[encoded data removed]",
            "text/plain": [
              "<Figure size 504x504 with 2 Axes>"
            ]
          },
          "metadata": {
            "tags": [],
            "needs_background": "light"
          }
        },
        {
          "output_type": "stream",
          "text": [
            "\n",
            "\n"
          ],
          "name": "stdout"
        },
        {
          "output_type": "display_data",
          "data": {
            "image/png": "[encoded data removed]",
            "text/plain": [
              "<Figure size 504x504 with 2 Axes>"
            ]
          },
          "metadata": {
            "tags": [],
            "needs_background": "light"
          }
        },
        {
          "output_type": "stream",
          "text": [
            "\n",
            "\n",
            "Final accuracy for final_model: 96.2%\n"
          ],
          "name": "stdout"
        },
        {
          "output_type": "execute_result",
          "data": {
            "text/plain": [
              "96.2"
            ]
          },
          "metadata": {
            "tags": []
          },
          "execution_count": 21
        }
      ]
    },
    {
      "cell_type": "markdown",
      "metadata": {
        "id": "99udhI1kqigg"
      },
      "source": [
        "The curves tell us that the model starts to overfit on the training set, but the validation accuracy is the highest ever achieved so more tweaking seems unnecessary."
      ]
    },
    {
      "cell_type": "markdown",
      "metadata": {
        "id": "3F2Zyj82tVb8"
      },
      "source": [
        "## Test the final model"
      ]
    },
    {
      "cell_type": "markdown",
      "metadata": {
        "id": "PJ59eQJXmOYY"
      },
      "source": [
        "To be sure that everything works fine, lets test the final model."
      ]
    },
    {
      "cell_type": "markdown",
      "metadata": {
        "id": "OILYwPQgmnJf"
      },
      "source": [
        "This function shuffles 2 arrays the same way and returns the shuffled copies."
      ]
    },
    {
      "cell_type": "code",
      "metadata": {
        "id": "UPoNzANSqGsS"
      },
      "source": [
        "def unison_shuffled_copies(a, b):\n",
        "    assert len(a) == len(b)\n",
        "    p = np.random.permutation(len(a))\n",
        "    return a[p], b[p]"
      ],
      "execution_count": null,
      "outputs": []
    },
    {
      "cell_type": "markdown",
      "metadata": {
        "id": "MOzeK8T_nac0"
      },
      "source": [
        "To be sure test the final model on the shuffled test dataset."
      ]
    },
    {
      "cell_type": "code",
      "metadata": {
        "colab": {
          "base_uri": "https://localhost:8080/"
        },
        "id": "m3SHS3hUmwq6",
        "outputId": "f2f3a492-a46d-44b8-9fe6-c1eb313fc349"
      },
      "source": [
        "x_test_shuffled, y_test_shuffled = unison_shuffled_copies(x_test, y_test)\n",
        "\n",
        "get_final_accuracy(final_model, x_test_shuffled, y_test_shuffled)"
      ],
      "execution_count": null,
      "outputs": [
        {
          "output_type": "stream",
          "text": [
            "Final accuracy for final_model: 96.2%\n"
          ],
          "name": "stdout"
        },
        {
          "output_type": "execute_result",
          "data": {
            "text/plain": [
              "96.2"
            ]
          },
          "metadata": {
            "tags": []
          },
          "execution_count": 24
        }
      ]
    },
    {
      "cell_type": "markdown",
      "metadata": {
        "id": "NJY28jvTnv34"
      },
      "source": [
        "Plot the prediction values as well as the image."
      ]
    },
    {
      "cell_type": "code",
      "metadata": {
        "id": "pGR08xlctYGq"
      },
      "source": [
        "def plot_prediction(predictions_array, true_label, img):\n",
        "  plt.figure(figsize=(10,3))\n",
        "  plt.subplot(1,2,1)\n",
        "\n",
        "  plt.grid(False)\n",
        "  plt.xticks([])\n",
        "  plt.yticks([])\n",
        "\n",
        "  plt.imshow(img[0], cmap=plt.cm.binary)\n",
        "\n",
        "  predicted_label = np.argmax(predictions_array)\n",
        "  if predicted_label == true_label:\n",
        "    color = 'blue'\n",
        "  else:\n",
        "    color = 'red'\n",
        "\n",
        "  plt.xlabel(\"{} {:2.0f}% ({})\".format(classes[predicted_label],\n",
        "                                100*np.max(predictions_array),\n",
        "                                classes[true_label]),\n",
        "                                color=color)\n",
        "  ax = plt.subplot(1,2,2)\n",
        "\n",
        "  plt.grid(False)\n",
        "  plt.xticks(range(5))\n",
        "  ax.xaxis.set_ticklabels(classes)\n",
        "  plt.yticks([])\n",
        "  thisplot = plt.bar(range(5), predictions_array, color=\"#777777\")\n",
        "  plt.ylim([0, 1])\n",
        "  predicted_label = np.argmax(predictions_array)\n",
        "\n",
        "  thisplot[predicted_label].set_color('red')\n",
        "  thisplot[true_label].set_color('blue')\n",
        "\n",
        "  plt.show()\n"
      ],
      "execution_count": null,
      "outputs": []
    },
    {
      "cell_type": "markdown",
      "metadata": {
        "id": "GmUKn95Zn_6X"
      },
      "source": [
        "Convenience function to let the model predict on the image specified at \"path_to_image\"."
      ]
    },
    {
      "cell_type": "code",
      "metadata": {
        "id": "VrOShf44Sbi4"
      },
      "source": [
        "def test_model_with_one_img(path_to_image, true_label, model):\n",
        "  img = tf.keras.preprocessing.image.load_img(\n",
        "    path_to_image,\n",
        "    target_size=(image_height, image_width)\n",
        "  )\n",
        "\n",
        "  img_array = np.empty((1, image_height, image_width, image_channels))\n",
        "  img_array[0] = img\n",
        "\n",
        "  img_array = img_array / 255.0\n",
        "\n",
        "  predictions = model.predict(img_array)\n",
        "\n",
        "  plot_prediction(predictions[0], true_label, img_array)"
      ],
      "execution_count": null,
      "outputs": []
    },
    {
      "cell_type": "markdown",
      "metadata": {
        "id": "AI-ti8dQoS1X"
      },
      "source": [
        "Let's test the model on self-drawn images. One for each class."
      ]
    },
    {
      "cell_type": "code",
      "metadata": {
        "id": "1oMe-2WBuh_E"
      },
      "source": [
        "def test_model_with_my_drawings(model):\n",
        "  # index in array represents the corresponding class label (y)\n",
        "  my_drawings_paths = [\n",
        "                      data_dir + \"my_basket.png\",\n",
        "                      data_dir + \"my_eye.png\",\n",
        "                      data_dir + \"my_binoculars.png\",\n",
        "                      data_dir + \"my_rabbit.png\",\n",
        "                      data_dir + \"my_hand.png\"\n",
        "  ]\n",
        "\n",
        "  for i in range(len(my_drawings_paths)):\n",
        "    test_model_with_one_img(my_drawings_paths[i], i, model)\n"
      ],
      "execution_count": null,
      "outputs": []
    },
    {
      "cell_type": "code",
      "metadata": {
        "id": "4FNkdDncvSsM",
        "colab": {
          "base_uri": "https://localhost:8080/",
          "height": 987
        },
        "outputId": "fb6cd220-d137-4828-b457-81cc73089e8d"
      },
      "source": [
        "test_model_with_my_drawings(final_model)"
      ],
      "execution_count": null,
      "outputs": [
        {
          "output_type": "display_data",
          "data": {
            "image/png": "[encoded data removed]",
            "text/plain": [
              "<Figure size 720x216 with 2 Axes>"
            ]
          },
          "metadata": {
            "tags": [],
            "needs_background": "light"
          }
        },
        {
          "output_type": "display_data",
          "data": {
            "image/png": "[encoded data removed]",
            "text/plain": [
              "<Figure size 720x216 with 2 Axes>"
            ]
          },
          "metadata": {
            "tags": [],
            "needs_background": "light"
          }
        },
        {
          "output_type": "display_data",
          "data": {
            "image/png": "[encoded data removed]",
            "text/plain": [
              "<Figure size 720x216 with 2 Axes>"
            ]
          },
          "metadata": {
            "tags": [],
            "needs_background": "light"
          }
        },
        {
          "output_type": "display_data",
          "data": {
            "image/png": "[encoded data removed]",
            "text/plain": [
              "<Figure size 720x216 with 2 Axes>"
            ]
          },
          "metadata": {
            "tags": [],
            "needs_background": "light"
          }
        },
        {
          "output_type": "display_data",
          "data": {
            "image/png": "[encoded data removed]",
            "text/plain": [
              "<Figure size 720x216 with 2 Axes>"
            ]
          },
          "metadata": {
            "tags": [],
            "needs_background": "light"
          }
        }
      ]
    },
    {
      "cell_type": "markdown",
      "metadata": {
        "id": "Buw3PXOyojPY"
      },
      "source": [
        "Each class delivered a 100% result. Probably the self-drawn images are classical examples."
      ]
    },
    {
      "cell_type": "markdown",
      "metadata": {
        "id": "ZTnjgjejo1rm"
      },
      "source": [
        "## Conclusion"
      ]
    },
    {
      "cell_type": "markdown",
      "metadata": {
        "id": "qaSAfORZo5bR"
      },
      "source": [
        "There are probably infinite possibilities for building and tweaking neural nets. The decision to stop at this point without diving deeper into different architectures or transfer learning is simply because of the deadline. The challenge made the task much more interesting, because of trying to achieve the best possible result."
      ]
    }
  ]
}