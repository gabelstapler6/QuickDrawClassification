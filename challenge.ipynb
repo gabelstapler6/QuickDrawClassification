{
  "nbformat": 4,
  "nbformat_minor": 0,
  "metadata": {
    "colab": {
      "name": "challenge.ipynb",
      "provenance": [],
      "collapsed_sections": [],
      "include_colab_link": true
    },
    "kernelspec": {
      "display_name": "Python 3",
      "language": "python",
      "name": "python3"
    },
    "language_info": {
      "codemirror_mode": {
        "name": "ipython",
        "version": 3
      },
      "file_extension": ".py",
      "mimetype": "text/x-python",
      "name": "python",
      "nbconvert_exporter": "python",
      "pygments_lexer": "ipython3",
      "version": "3.9.4"
    },
    "accelerator": "GPU"
  },
  "cells": [
    {
      "cell_type": "markdown",
      "metadata": {
        "id": "view-in-github",
        "colab_type": "text"
      },
      "source": [
        "<a href=\"https://colab.research.google.com/github/gabelstapler6/QuickDrawClassification/blob/main/challenge.ipynb\" target=\"_parent\"><img src=\"https://colab.research.google.com/assets/colab-badge.svg\" alt=\"Open In Colab\"/></a>"
      ]
    },
    {
      "cell_type": "markdown",
      "metadata": {
        "id": "W71Beyxjt5LE"
      },
      "source": [
        "# Deep Learning challenge"
      ]
    },
    {
      "cell_type": "code",
      "metadata": {
        "id": "MdZAI83RugLk",
        "colab": {
          "base_uri": "https://localhost:8080/"
        },
        "outputId": "021457dc-09aa-41d0-ea74-745ea45959cc"
      },
      "source": [
        "from google.colab import drive\n",
        "drive.mount('/content/drive')"
      ],
      "execution_count": null,
      "outputs": [
        {
          "output_type": "stream",
          "text": [
            "Mounted at /content/drive\n"
          ],
          "name": "stdout"
        }
      ]
    },
    {
      "cell_type": "markdown",
      "metadata": {
        "id": "LOGqQ93Bt5LJ"
      },
      "source": [
        "## Objective\n",
        "The objective of this challenge is to develop a deep learning based classification method to classify images from [Google Quickdraw](https://quickdraw.withgoogle.com/data).\n",
        "\n",
        "\n",
        "## Data \n",
        "Among all the available images, you will work on a dataset composed of 5 balanced classes, with 15000 training examples and 5000 test examples: baskets, eyes, glasses, rabbits and hands. The archive *Data_train_test.zip* contains the set of images, as well as two CSV files, giving the lists of images used for the training/test step. \n",
        "\n",
        "## Methodology\n",
        "You can use any algorithm that seems relevant to you (MLP, CNN, LSTM, transfer Learning,...), or even create your own neural network ! Find a relevant methodology, evaluate several architectures (use of dropout, batch Normalisation, use of pretrained netorks with fine tuning... ), objective functions, optimizers.... Take a look at the influence of the parameters (learning rate, batch size, ...). Be imaginative !!\n",
        "\n",
        "\n",
        "## Evaluation\n",
        "You have to write a final report in a **jupyter notebook**. The code will be done in Python, the comments in Markdown. \n",
        "In this report, you will detail all the steps that led you to the final results, the code you produce, all the experiments you made (different architectures, different parameters, the way you measure the performance of your method,...) with **relevant** comments.\n",
        "\n",
        "In order not to train all your models by myself, please save your **final** model using the [`save_weights`](https://keras.io/api/models/model_saving_apis/) method. For example:\n",
        "\n",
        "`model = tf.keras.Sequential([tf.keras.layers.Dense(5, input_shape=(3,)),tf.keras.layers.Softmax()])`\n",
        "\n",
        "`model.compile(...)`\n",
        "\n",
        "`model.fit(...)`\n",
        "\n",
        "`model.save_weights('mymodel.h5')`\n",
        "\n",
        "Please provide the `.h5` file as well as the full jupyter notebook.\n",
        "\n",
        "\n",
        "\n",
        "I have a validation set to validate your trained network. I will run your model on this dataset to measure the classification accuracy. \n",
        "\n",
        "To give the final mark, the following criteria will be used:\n",
        "- I will rank you w.r.t. to the accuracy on the validation set. The ranking will provide a part (8/20) of the note (8 points for the best accuracy down to 2 points for the worst)\n",
        "- The report will provide the remaining 12 points. I will assess the experiments you have made, the final model itself, the comments and the conclusions you have drawn, the results you  have obtained\n",
        "\n",
        "The report, as well as the `.h5`file, are due **July 5th 2021** on the GRISP  platform."
      ]
    },
    {
      "cell_type": "markdown",
      "metadata": {
        "id": "2HsfXJ53t5LM"
      },
      "source": [
        "## Imports"
      ]
    },
    {
      "cell_type": "code",
      "metadata": {
        "id": "v2_2TH1Jt5LN",
        "colab": {
          "base_uri": "https://localhost:8080/"
        },
        "outputId": "80732c67-177c-4e6d-ac65-dbe3853d9c22"
      },
      "source": [
        "import tensorflow as tf\n",
        "from tensorflow import keras\n",
        "\n",
        "import os\n",
        "import os.path\n",
        "import pandas as pd\n",
        "import numpy as np\n",
        "import time\n",
        "from PIL import Image\n",
        "import glob\n",
        "import matplotlib.pyplot as plt\n",
        "%matplotlib inline\n",
        "\n",
        "from sklearn.metrics import confusion_matrix\n",
        "from keras.wrappers.scikit_learn import KerasClassifier\n",
        "from sklearn.model_selection import GridSearchCV\n",
        "import seaborn as sns\n",
        "\n",
        "from random import randrange\n",
        "\n",
        "!pip install -q -U keras-tuner\n",
        "\n",
        "import keras_tuner as kt"
      ],
      "execution_count": null,
      "outputs": [
        {
          "output_type": "stream",
          "text": [
            "\u001b[?25l\r\u001b[K     |███▍                            | 10kB 21.9MB/s eta 0:00:01\r\u001b[K     |██████▉                         | 20kB 28.2MB/s eta 0:00:01\r\u001b[K     |██████████▏                     | 30kB 26.0MB/s eta 0:00:01\r\u001b[K     |█████████████▋                  | 40kB 18.8MB/s eta 0:00:01\r\u001b[K     |█████████████████               | 51kB 8.6MB/s eta 0:00:01\r\u001b[K     |████████████████████▍           | 61kB 7.9MB/s eta 0:00:01\r\u001b[K     |███████████████████████▊        | 71kB 8.9MB/s eta 0:00:01\r\u001b[K     |███████████████████████████▏    | 81kB 9.8MB/s eta 0:00:01\r\u001b[K     |██████████████████████████████▋ | 92kB 10.2MB/s eta 0:00:01\r\u001b[K     |████████████████████████████████| 102kB 6.9MB/s \n",
            "\u001b[?25h  Building wheel for kt-legacy (setup.py) ... \u001b[?25l\u001b[?25hdone\n"
          ],
          "name": "stdout"
        }
      ]
    },
    {
      "cell_type": "markdown",
      "metadata": {
        "id": "R0GlMTBDt5LQ"
      },
      "source": [
        "## Parameters\n"
      ]
    },
    {
      "cell_type": "code",
      "metadata": {
        "id": "fB48uf4ot5LR"
      },
      "source": [
        "# Use the correct directory\n",
        "data_dir = \"/content/drive/MyDrive/DeepLearning/Challenge/Data_train_test/\"\n",
        "model_dir = \"/content/drive/MyDrive/DeepLearning/Challenge/Models/\"\n",
        "\n",
        "classes = [\"basket\",\"eye\",\"binoculars\",\"rabbit\",\"hand\"]\n",
        "num_classes = 5\n",
        "\n",
        "image_width = 28\n",
        "image_height = 28\n",
        "image_channels = 3\n",
        "\n",
        "batch_size = 40"
      ],
      "execution_count": null,
      "outputs": []
    },
    {
      "cell_type": "markdown",
      "metadata": {
        "id": "0aMfKwSf2NWJ"
      },
      "source": [
        "## Retrieve the dataset(s)\n",
        "- We need to retrieve the data specified in the two .csv files\n",
        "- One data set for training and the other for testing"
      ]
    },
    {
      "cell_type": "markdown",
      "metadata": {
        "id": "8Uh-mPJOj_wB"
      },
      "source": [
        "### Evaluating the approach for retrieving the datasets"
      ]
    },
    {
      "cell_type": "markdown",
      "metadata": {
        "id": "vqNoDmLtQmzo"
      },
      "source": [
        "The images need to be loaded from the Google Drive into the memory so that they can be processed by the neural net. There are some different approaches to do that."
      ]
    },
    {
      "cell_type": "markdown",
      "metadata": {
        "id": "qgH1vxijc03w"
      },
      "source": [
        "#### First approach: \"Flow from dataframe\"\n",
        "\n",
        "Pros:\n",
        "- Easy to implement and understand\n",
        "- Good for large datasets due to the loading of data into the RAM only when needed (e.g. when fitting the dataset)\n",
        "- Creation of the generator objects is fast\n",
        "\n",
        "Cons:\n",
        "- Fitting needs very much time because the data needs to be read from the Google drive for each batch\n",
        "\n",
        "##### Example code:"
      ]
    },
    {
      "cell_type": "code",
      "metadata": {
        "id": "00uBqfqFcUeO"
      },
      "source": [
        "if 0:\n",
        "  datagen = ImageDataGenerator(rescale=1./255.)\n",
        "\n",
        "  train_df = pd.read_csv(data_dir + 'train.csv')\n",
        "\n",
        "  train_generator = datagen.flow_from_dataframe(\n",
        "    dataframe = train_df,\n",
        "    directory = data_dir + \"images/\",\n",
        "    x_col = \"relative_path\",\n",
        "    y_col = \"class_label\",\n",
        "    batch_size = batch_size,\n",
        "    seed = 42,\n",
        "    shuffle = True,\n",
        "    class_mode = \"raw\",\n",
        "    target_size = (image_height, image_width)\n",
        "  )"
      ],
      "execution_count": null,
      "outputs": []
    },
    {
      "cell_type": "markdown",
      "metadata": {
        "id": "prA1dFUof54n"
      },
      "source": [
        "This approach was the first to be used to retrieve the dataset. It was a failure due to the extreme fitting duration. The evaluation of the model was not possible because the colab session timed out before even reaching  completion of the first epoch. A bug resulted the fitting to freeze at the last batch of the epoch. The bug was fixed when setting the \"steps_per_epoch\" and \"validation_steps\" parameters of the fit function manualy. "
      ]
    },
    {
      "cell_type": "markdown",
      "metadata": {
        "id": "XszdLyHhhCi3"
      },
      "source": [
        "#### Second approach: \"Numpy array\"\n",
        "\n",
        "Pros:\n",
        "- Fitting the model is very fast because the dataset is already in the RAM\n",
        "- Saving the numpy array to a file is possible and very fast\n",
        "- Loading the numpy array from a file is extremely fast compared to loading the images from the Google drive\n",
        "\n",
        "Cons:\n",
        "- Reading the dataset at the first run takes very long (~6h)"
      ]
    },
    {
      "cell_type": "markdown",
      "metadata": {
        "id": "4AQGH0tcinRT"
      },
      "source": [
        "In the following the second approach is used due to the convenience of saving the dataset in a \"ready to use\" format to the disk and the possibility to load it. The first time retrieving the data needed to be withstanded but then the dataset could be used nearly instantly to fit and develop the model.\n",
        "\n",
        "---"
      ]
    },
    {
      "cell_type": "markdown",
      "metadata": {
        "id": "n6fYPKCvjgGN"
      },
      "source": [
        "### Define some convenience functions"
      ]
    },
    {
      "cell_type": "markdown",
      "metadata": {
        "id": "k4jqp4OSkRPT"
      },
      "source": [
        "The images can be loaded from disk using the \"relative_path\" column of the .csv files and put into a numpy array (e.g. x_train.shape: (75000, 28, 28, 3)). The corresponding labels where retrieved using the \"class_label\" column. The keras function \"load_img\" returns a PIL image which is \"automatically\" converted into a numpy array when putting it into one.\n"
      ]
    },
    {
      "cell_type": "code",
      "metadata": {
        "id": "Qd3ngIlwSDx1"
      },
      "source": [
        "def preprocess_data(dataframe):\n",
        "  dataframe_size = len(dataframe.relative_path)\n",
        "  x = np.empty((dataframe_size, image_height, image_width, image_channels))\n",
        "  y = np.empty(dataframe_size)\n",
        "  print(\"Start loading images...\")\n",
        "  for i in range(0, dataframe_size):\n",
        "    img = tf.keras.preprocessing.image.load_img(data_dir + \"images/\" + dataframe.relative_path[i], target_size=(image_height, image_width))\n",
        "    x[i] = img\n",
        "    y[i] = dataframe.class_label[i]\n",
        "    if (i+1) % 100 == 0:\n",
        "      print(\"Loaded \" + str(i+1) + \"/\" + str(dataframe_size))\n",
        "  # normalize the pixel values\n",
        "  x = x / 255.0\n",
        "  return x, y"
      ],
      "execution_count": null,
      "outputs": []
    },
    {
      "cell_type": "markdown",
      "metadata": {
        "id": "ZBueBDbsmYEk"
      },
      "source": [
        "The \"retrieve_data\" function is used for managing the saving and loading of the dataset to the disk as well as calling the \"preprocess_data\" function to load the images from the Google drive."
      ]
    },
    {
      "cell_type": "code",
      "metadata": {
        "id": "Npd1tUL2VoRz"
      },
      "source": [
        "def retrieve_data(dataframe, save_path_x, save_path_y):\n",
        "  if os.path.isfile(save_path_x) & os.path.isfile(save_path_y):\n",
        "    print(\"Found save files:\\n\" + save_path_x + \"\\n\" + save_path_y)\n",
        "    x = np.load(save_path_x)\n",
        "    y = np.load(save_path_y)\n",
        "    return x, y\n",
        "  else:\n",
        "    x, y = preprocess_data(dataframe)\n",
        "    np.save(save_path_x, x)\n",
        "    np.save(save_path_y, y)\n",
        "    return x, y"
      ],
      "execution_count": null,
      "outputs": []
    },
    {
      "cell_type": "markdown",
      "metadata": {
        "id": "NTaI4_aAm4RM"
      },
      "source": [
        "### Loading the datasets into the memory"
      ]
    },
    {
      "cell_type": "code",
      "metadata": {
        "colab": {
          "base_uri": "https://localhost:8080/"
        },
        "id": "ORm-fNPiLfHj",
        "outputId": "f7102ae8-4429-4b5b-d768-98822087c370"
      },
      "source": [
        "train_df = pd.read_csv(data_dir + 'train.csv')\n",
        "\n",
        "print(\"Retrieve train data:\")\n",
        "x_train, y_train = retrieve_data(train_df, data_dir + \"npy/x_train.npy\", data_dir + \"npy/y_train.npy\")"
      ],
      "execution_count": null,
      "outputs": [
        {
          "output_type": "stream",
          "text": [
            "Retrieve train data:\n",
            "Found save files:\n",
            "/content/drive/MyDrive/DeepLearning/Challenge/Data_train_test/npy/x_train.npy\n",
            "/content/drive/MyDrive/DeepLearning/Challenge/Data_train_test/npy/y_train.npy\n"
          ],
          "name": "stdout"
        }
      ]
    },
    {
      "cell_type": "code",
      "metadata": {
        "colab": {
          "base_uri": "https://localhost:8080/"
        },
        "id": "EkYsrQRJnEqI",
        "outputId": "d8935358-1e02-4b43-bfe9-989950ba47be"
      },
      "source": [
        "test_df = pd.read_csv(data_dir + 'test.csv')\n",
        "\n",
        "print(\"Retrieve test data:\")\n",
        "x_test, y_test = retrieve_data(test_df, data_dir + \"npy/x_test.npy\", data_dir + \"npy/y_test.npy\")"
      ],
      "execution_count": null,
      "outputs": [
        {
          "output_type": "stream",
          "text": [
            "Retrieve test data:\n",
            "Found save files:\n",
            "/content/drive/MyDrive/DeepLearning/Challenge/Data_train_test/npy/x_test.npy\n",
            "/content/drive/MyDrive/DeepLearning/Challenge/Data_train_test/npy/y_test.npy\n"
          ],
          "name": "stdout"
        }
      ]
    },
    {
      "cell_type": "markdown",
      "metadata": {
        "id": "0f-dueYlVxRV"
      },
      "source": [
        "### Visualize the data\n"
      ]
    },
    {
      "cell_type": "markdown",
      "metadata": {
        "id": "mB9rMs2Gnh15"
      },
      "source": [
        "- Plot some random images and their corresponding label from the training set to confirm the data"
      ]
    },
    {
      "cell_type": "code",
      "metadata": {
        "id": "Yri1W4zdJ3c8"
      },
      "source": [
        "def visualize_data(x_data, y_data):\n",
        "  plt.figure(figsize=(10, 10))\n",
        "  for i in range(9):\n",
        "    ax = plt.subplot(3, 3, i + 1)\n",
        "    rand = randrange(len(x_data))\n",
        "    img = x_data[rand]\n",
        "    plt.imshow(img)\n",
        "    label = int(y_data[rand])\n",
        "    plt.title(classes[label])\n",
        "    plt.axis(\"off\")"
      ],
      "execution_count": null,
      "outputs": []
    },
    {
      "cell_type": "code",
      "metadata": {
        "colab": {
          "base_uri": "https://localhost:8080/",
          "height": 591
        },
        "id": "dgPrD9taLAty",
        "outputId": "8fa21736-f1cf-48b7-ec5d-1d455ab8f870"
      },
      "source": [
        "visualize_data(x_train, y_train)"
      ],
      "execution_count": null,
      "outputs": [
        {
          "output_type": "display_data",
          "data": {
            "image/png": "[encoded data removed]",
            "text/plain": [
              "<Figure size 720x720 with 9 Axes>"
            ]
          },
          "metadata": {
            "tags": [],
            "needs_background": "light"
          }
        }
      ]
    },
    {
      "cell_type": "markdown",
      "metadata": {
        "id": "5W2d0GLy2TJg"
      },
      "source": [
        "## Creating the classification model"
      ]
    },
    {
      "cell_type": "code",
      "metadata": {
        "id": "VCgSqDCp8PJI"
      },
      "source": [
        "def create_mlp_model(name):\n",
        "  model = keras.Sequential(name=name)\n",
        "  model.add(keras.layers.Flatten(input_shape=(image_height, image_width, image_channels)))\n",
        "  model.add(keras.layers.Dense(units=128, activation=\"tanh\"))\n",
        "  model.add(keras.layers.Dense(units=64, activation=\"tanh\"))\n",
        "  model.add(keras.layers.Dense(units=64, activation=\"tanh\"))\n",
        "  model.add(keras.layers.Dense(units=5, activation=\"softmax\"))\n",
        "\n",
        "  model.compile(optimizer=\"adam\", loss=\"sparse_categorical_crossentropy\", metrics=[\"accuracy\"])\n",
        "  return model"
      ],
      "execution_count": null,
      "outputs": []
    },
    {
      "cell_type": "code",
      "metadata": {
        "colab": {
          "base_uri": "https://localhost:8080/"
        },
        "id": "iIKvEuIB85zU",
        "outputId": "71a1d180-0058-4115-9be5-708344867b16"
      },
      "source": [
        "mlp_model = create_mlp_model(\"mlp_model\")\n",
        "mlp_model.summary()"
      ],
      "execution_count": null,
      "outputs": [
        {
          "output_type": "stream",
          "text": [
            "Model: \"mlp_model\"\n",
            "_________________________________________________________________\n",
            "Layer (type)                 Output Shape              Param #   \n",
            "=================================================================\n",
            "flatten_3 (Flatten)          (None, 2352)              0         \n",
            "_________________________________________________________________\n",
            "dense_12 (Dense)             (None, 128)               301184    \n",
            "_________________________________________________________________\n",
            "dense_13 (Dense)             (None, 64)                8256      \n",
            "_________________________________________________________________\n",
            "dense_14 (Dense)             (None, 64)                4160      \n",
            "_________________________________________________________________\n",
            "dense_15 (Dense)             (None, 5)                 325       \n",
            "=================================================================\n",
            "Total params: 313,925\n",
            "Trainable params: 313,925\n",
            "Non-trainable params: 0\n",
            "_________________________________________________________________\n"
          ],
          "name": "stdout"
        }
      ]
    },
    {
      "cell_type": "markdown",
      "metadata": {
        "id": "LTf2XKFI2bKi"
      },
      "source": [
        "#### Compile and fit the model\n"
      ]
    },
    {
      "cell_type": "markdown",
      "metadata": {
        "id": "ik868Zclq12U"
      },
      "source": [
        "Specifying some callback functions to be called during the fitting process\n",
        "- EarlyStopping\n",
        "  - Stop the fitting if the monitor value gets worse after the number of epochs specified in patience\n",
        "- CSVLogger\n",
        "  - Save the training history into a .csv file after each epoch"
      ]
    },
    {
      "cell_type": "code",
      "metadata": {
        "id": "7n5ozmSSqjiC"
      },
      "source": [
        "def get_callbacks(name):\n",
        "  callbacks = [\n",
        "               tf.keras.callbacks.EarlyStopping(monitor=\"val_loss\", patience=4),\n",
        "               keras.callbacks.CSVLogger(model_dir + name + \".history\")\n",
        "               ]\n",
        "  return callbacks"
      ],
      "execution_count": null,
      "outputs": []
    },
    {
      "cell_type": "markdown",
      "metadata": {
        "id": "RYIQeDmhrkQm"
      },
      "source": [
        "This function is responsible for fitting the model as well as saving the trained weights to the Drive. If weights are already saved this function retrieves the weights and loads them into the model."
      ]
    },
    {
      "cell_type": "code",
      "metadata": {
        "id": "nwfLqs-UfJNX"
      },
      "source": [
        "def fit_model(model, epochs, force_fit=False, verbose=1):\n",
        "\n",
        "  weights_path = model_dir + model.name + \".h5\"\n",
        "  history_path = model_dir + model.name + \".history\"\n",
        "  \n",
        "  if not force_fit:\n",
        "    if os.path.isfile(weights_path) & os.path.isfile(history_path):\n",
        "      print(\"Found weights and training history for \" + model.name + \" at:\\n\" + weights_path + \"\\n\" + history_path)\n",
        "      model.load_weights(weights_path)\n",
        "      return pd.read_csv(history_path)\n",
        "\n",
        "  print(\"Fitting \" + model.name + \" ...\\n\")\n",
        "  steps_per_epoch = len(x_train) // batch_size\n",
        "  validation_steps = len(x_test) // batch_size\n",
        "\n",
        "  history = model.fit(\n",
        "      x = x_train,\n",
        "      y = y_train,  \n",
        "      steps_per_epoch = steps_per_epoch,\n",
        "      validation_data = (x_test, y_test),\n",
        "      validation_steps = validation_steps,\n",
        "      epochs = epochs,\n",
        "      batch_size = batch_size,\n",
        "      shuffle = True,\n",
        "      verbose = verbose,\n",
        "      callbacks = get_callbacks(model.name)\n",
        "  )\n",
        "\n",
        "  model.save_weights(weights_path)\n",
        "\n",
        "  print(\"Finished fitting!\")\n",
        "  return pd.DataFrame(history.history)"
      ],
      "execution_count": null,
      "outputs": []
    },
    {
      "cell_type": "markdown",
      "metadata": {
        "id": "Ygt9OciM2fEV"
      },
      "source": [
        "Calling the above defined function for fitting."
      ]
    },
    {
      "cell_type": "code",
      "metadata": {
        "colab": {
          "base_uri": "https://localhost:8080/"
        },
        "id": "k7rvh5kx9O6i",
        "outputId": "1bf70335-28b9-456b-b817-c1cc4905b48c"
      },
      "source": [
        "mlp_model_history = fit_model(mlp_model, epochs=20)"
      ],
      "execution_count": null,
      "outputs": [
        {
          "output_type": "stream",
          "text": [
            "Fitting mlp_model ...\n",
            "\n",
            "Epoch 1/20\n",
            "1875/1875 [==============================] - 6s 3ms/step - loss: 0.5496 - accuracy: 0.8171 - val_loss: 0.4356 - val_accuracy: 0.8601\n",
            "Epoch 2/20\n",
            "1875/1875 [==============================] - 5s 2ms/step - loss: 0.4007 - accuracy: 0.8691 - val_loss: 0.4249 - val_accuracy: 0.8621\n",
            "Epoch 3/20\n",
            "1875/1875 [==============================] - 5s 3ms/step - loss: 0.3552 - accuracy: 0.8834 - val_loss: 0.3949 - val_accuracy: 0.8724\n",
            "Epoch 4/20\n",
            "1875/1875 [==============================] - 5s 3ms/step - loss: 0.3265 - accuracy: 0.8916 - val_loss: 0.3856 - val_accuracy: 0.8743\n",
            "Epoch 5/20\n",
            "1875/1875 [==============================] - 5s 3ms/step - loss: 0.3011 - accuracy: 0.9009 - val_loss: 0.3870 - val_accuracy: 0.8722\n",
            "Epoch 6/20\n",
            "1875/1875 [==============================] - 5s 3ms/step - loss: 0.2821 - accuracy: 0.9053 - val_loss: 0.3869 - val_accuracy: 0.8745\n",
            "Epoch 7/20\n",
            "1875/1875 [==============================] - 5s 3ms/step - loss: 0.2642 - accuracy: 0.9120 - val_loss: 0.3773 - val_accuracy: 0.8807\n",
            "Epoch 8/20\n",
            "1875/1875 [==============================] - 5s 3ms/step - loss: 0.2448 - accuracy: 0.9179 - val_loss: 0.3879 - val_accuracy: 0.8752\n",
            "Epoch 9/20\n",
            "1875/1875 [==============================] - 5s 3ms/step - loss: 0.2304 - accuracy: 0.9222 - val_loss: 0.3991 - val_accuracy: 0.8761\n",
            "Epoch 10/20\n",
            "1875/1875 [==============================] - 5s 3ms/step - loss: 0.2230 - accuracy: 0.9253 - val_loss: 0.4007 - val_accuracy: 0.8761\n",
            "Epoch 11/20\n",
            "1875/1875 [==============================] - 5s 3ms/step - loss: 0.2115 - accuracy: 0.9287 - val_loss: 0.3982 - val_accuracy: 0.8786\n",
            "Finished fitting!\n"
          ],
          "name": "stdout"
        }
      ]
    },
    {
      "cell_type": "markdown",
      "metadata": {
        "id": "cGaVqMet2hck"
      },
      "source": [
        "#### Evaluate the model"
      ]
    },
    {
      "cell_type": "markdown",
      "metadata": {
        "id": "zC2hzhZ6tF0Q"
      },
      "source": [
        "Reusable function for plotting the accuracy of the training and the validation set, as well as the losses."
      ]
    },
    {
      "cell_type": "code",
      "metadata": {
        "id": "IFCHj1e929yE"
      },
      "source": [
        "def visualize_accuracy_and_loss(history, name=\"\"):\n",
        "  acc = history.accuracy\n",
        "  val_acc = history.val_accuracy\n",
        "\n",
        "  loss = history.loss\n",
        "  val_loss = history.val_loss\n",
        "\n",
        "  epochs_range = range(len(history.accuracy))\n",
        "\n",
        "  plt.figure(figsize=(7, 7))\n",
        "\n",
        "  plt.subplot(1, 2, 1)\n",
        "  plt.plot(epochs_range, acc, label=\"Training Accuracy\")\n",
        "  plt.plot(epochs_range, val_acc, label=\"Validation Accuracy\")\n",
        "  plt.legend(loc=\"lower right\")\n",
        "  plt.title(\"Accuracy \" + name)\n",
        "\n",
        "  plt.subplot(1, 2, 2)\n",
        "  plt.plot(epochs_range, loss, label=\"Training Loss\")\n",
        "  plt.plot(epochs_range, val_loss, label=\"Validation Loss\")\n",
        "  plt.legend(loc=\"upper right\")\n",
        "  plt.title(\"Loss \" + name)\n",
        "  plt.show()"
      ],
      "execution_count": null,
      "outputs": []
    },
    {
      "cell_type": "code",
      "metadata": {
        "colab": {
          "base_uri": "https://localhost:8080/",
          "height": 444
        },
        "id": "2zsbTQwzfxhx",
        "outputId": "45a4363f-dabf-4777-f1ff-55929238455f"
      },
      "source": [
        "visualize_accuracy_and_loss(mlp_model_history, mlp_model.name)"
      ],
      "execution_count": null,
      "outputs": [
        {
          "output_type": "display_data",
          "data": {
            "image/png": "[encoded data removed]",
            "text/plain": [
              "<Figure size 504x504 with 2 Axes>"
            ]
          },
          "metadata": {
            "tags": [],
            "needs_background": "light"
          }
        }
      ]
    },
    {
      "cell_type": "markdown",
      "metadata": {
        "id": "3d7_M3hEShBy"
      },
      "source": [
        "the shape of the curves tells us that the model quickly starts to overfit on the training set."
      ]
    },
    {
      "cell_type": "markdown",
      "metadata": {
        "id": "dGLgdy7FLrjh"
      },
      "source": [
        "Confusion Matrix"
      ]
    },
    {
      "cell_type": "markdown",
      "metadata": {
        "id": "8QjZAjHFS3hv"
      },
      "source": [
        "The confusion matrix shows the predicted and true labels for all classes in the test dataset."
      ]
    },
    {
      "cell_type": "code",
      "metadata": {
        "id": "3caJOBCrMkEq"
      },
      "source": [
        "def plot_confusion_matrix(model):\n",
        "  y_true, y_pred = y_test, np.argmax(model.predict(x_test), axis=-1)\n",
        "  cm = confusion_matrix(y_true, y_pred)\n",
        "\n",
        "  fig, ax = plt.subplots(figsize=(7, 7))     \n",
        "  ax = plt.subplot()\n",
        "  sns.heatmap(cm, annot=True, cmap=\"Greens\", fmt=\"g\")\n",
        "  ax.set_xlabel(\"\\nPredicted labels\", fontsize=14)\n",
        "  ax.set_ylabel(\"\\nTrue labels\", fontsize=14)\n",
        "  ax.set_title(\"Confusion Matrix \" + model.name)\n",
        "  ax.xaxis.set_ticklabels(classes)\n",
        "  ax.yaxis.set_ticklabels(classes)\n",
        "  plt.show()"
      ],
      "execution_count": null,
      "outputs": []
    },
    {
      "cell_type": "code",
      "metadata": {
        "colab": {
          "base_uri": "https://localhost:8080/",
          "height": 479
        },
        "id": "SK0rnVPiLxLm",
        "outputId": "9b24a881-a382-4dae-8ea5-592469408f31"
      },
      "source": [
        "plot_confusion_matrix(mlp_model)"
      ],
      "execution_count": null,
      "outputs": [
        {
          "output_type": "display_data",
          "data": {
            "image/png": "[encoded data removed]",
            "text/plain": [
              "<Figure size 504x504 with 2 Axes>"
            ]
          },
          "metadata": {
            "tags": [],
            "needs_background": "light"
          }
        }
      ]
    },
    {
      "cell_type": "code",
      "metadata": {
        "id": "zjEqh-SX-yIJ"
      },
      "source": [
        "def get_final_accuracy(model, x, y):\n",
        "  scores = model.evaluate(x=x, y=y, verbose=0)\n",
        "  scores = round(scores[1]*100, 2)\n",
        "  print(\"Final accuracy for \" + model.name + \": \" + str(scores) +  \"%\")"
      ],
      "execution_count": null,
      "outputs": []
    },
    {
      "cell_type": "code",
      "metadata": {
        "id": "fS8BTs55Cupk",
        "colab": {
          "base_uri": "https://localhost:8080/"
        },
        "outputId": "1a545cd5-fc03-4b41-bd8a-9c6a22501e27"
      },
      "source": [
        "get_final_accuracy(mlp_model, x_test, y_test)"
      ],
      "execution_count": null,
      "outputs": [
        {
          "output_type": "stream",
          "text": [
            "Final accuracy for mlp_model: 87.86%\n"
          ],
          "name": "stdout"
        }
      ]
    },
    {
      "cell_type": "markdown",
      "metadata": {
        "id": "-jTIWfictbZ_"
      },
      "source": [
        "The final accuracy on the test dataset is pretty good using the MLP model. To prevent overfitting Dropout layers can be added."
      ]
    },
    {
      "cell_type": "code",
      "metadata": {
        "id": "jFaiE8IrTtUX"
      },
      "source": [
        "def create_mlp_dropout_model(name):\n",
        "  model = keras.Sequential(name=name)\n",
        "  model.add(keras.layers.Flatten(input_shape=(image_height, image_width, image_channels)))\n",
        "  model.add(keras.layers.Dense(units=128, activation=\"tanh\"))\n",
        "  model.add(keras.layers.Dropout(0.3))\n",
        "  model.add(keras.layers.Dense(units=64, activation=\"tanh\"))\n",
        "  model.add(keras.layers.Dropout(0.3))\n",
        "  model.add(keras.layers.Dense(units=64, activation=\"tanh\"))\n",
        "  model.add(keras.layers.Dense(units=5, activation=\"softmax\"))\n",
        "\n",
        "  model.compile(optimizer=\"adam\", loss=\"sparse_categorical_crossentropy\", metrics=[\"accuracy\"])\n",
        "  return model"
      ],
      "execution_count": null,
      "outputs": []
    },
    {
      "cell_type": "markdown",
      "metadata": {
        "id": "fuj33uF2T6zk"
      },
      "source": [
        "The process_model function bundles all above functions into one call for convenience."
      ]
    },
    {
      "cell_type": "code",
      "metadata": {
        "id": "_8LLWLGOEL6i"
      },
      "source": [
        "def process_model(model, print_summary=True, epochs=10, force_fit=False, fitting_verbose=0):\n",
        "  if print_summary:\n",
        "    model.summary()\n",
        "    print(\"\\n\")\n",
        "  history = fit_model(model, epochs=epochs, force_fit=force_fit, verbose=fitting_verbose)\n",
        "  print(\"\\n\")\n",
        "  visualize_accuracy_and_loss(history, model.name)\n",
        "  print(\"\\n\")\n",
        "  plot_confusion_matrix(model)\n",
        "  print(\"\\n\")\n",
        "  get_final_accuracy(model, x_test, y_test)"
      ],
      "execution_count": null,
      "outputs": []
    },
    {
      "cell_type": "code",
      "metadata": {
        "colab": {
          "base_uri": "https://localhost:8080/",
          "height": 1000
        },
        "id": "42ZoE4-oUDQP",
        "outputId": "30ebb85b-17e4-4ad8-b8c7-62bc8853e062"
      },
      "source": [
        "mlp_dropout_model = create_mlp_dropout_model(\"mlp_dropout_model\")\n",
        "process_model(mlp_dropout_model, epochs=20)"
      ],
      "execution_count": null,
      "outputs": [
        {
          "output_type": "stream",
          "text": [
            "Model: \"mlp_dropout_model\"\n",
            "_________________________________________________________________\n",
            "Layer (type)                 Output Shape              Param #   \n",
            "=================================================================\n",
            "flatten_5 (Flatten)          (None, 2352)              0         \n",
            "_________________________________________________________________\n",
            "dense_20 (Dense)             (None, 128)               301184    \n",
            "_________________________________________________________________\n",
            "dropout_3 (Dropout)          (None, 128)               0         \n",
            "_________________________________________________________________\n",
            "dense_21 (Dense)             (None, 64)                8256      \n",
            "_________________________________________________________________\n",
            "dropout_4 (Dropout)          (None, 64)                0         \n",
            "_________________________________________________________________\n",
            "dense_22 (Dense)             (None, 64)                4160      \n",
            "_________________________________________________________________\n",
            "dense_23 (Dense)             (None, 5)                 325       \n",
            "=================================================================\n",
            "Total params: 313,925\n",
            "Trainable params: 313,925\n",
            "Non-trainable params: 0\n",
            "_________________________________________________________________\n",
            "\n",
            "\n",
            "Fitting mlp_dropout_model ...\n",
            "\n",
            "Finished fitting!\n",
            "\n",
            "\n"
          ],
          "name": "stdout"
        },
        {
          "output_type": "display_data",
          "data": {
            "image/png": "[encoded data removed]",
            "text/plain": [
              "<Figure size 504x504 with 2 Axes>"
            ]
          },
          "metadata": {
            "tags": [],
            "needs_background": "light"
          }
        },
        {
          "output_type": "stream",
          "text": [
            "\n",
            "\n"
          ],
          "name": "stdout"
        },
        {
          "output_type": "display_data",
          "data": {
            "image/png": "[encoded data removed]",
            "text/plain": [
              "<Figure size 504x504 with 2 Axes>"
            ]
          },
          "metadata": {
            "tags": [],
            "needs_background": "light"
          }
        },
        {
          "output_type": "stream",
          "text": [
            "\n",
            "\n",
            "Final accuracy for mlp_dropout_model: 87.37%\n"
          ],
          "name": "stdout"
        }
      ]
    },
    {
      "cell_type": "markdown",
      "metadata": {
        "id": "b123ABTkU9N5"
      },
      "source": [
        "You can see that the shapes of the curves have changed drastically. The validation accuracy is now higher than the training accuracy, but the final accuracy is even worse than before. It can be concluded that using a MLP for classifying the QuickDraw dataset is not a good choice. The next best option is a CNN. The CNN can probably identify more patterns and generalize them better, because of the convolution layers."
      ]
    },
    {
      "cell_type": "markdown",
      "metadata": {
        "id": "UPCYx1dcoZJG"
      },
      "source": [
        "### TensorFlow [Image classification example](https://www.tensorflow.org/tutorials/images/classification) architecture\n",
        "\n",
        "The example model is used as a starting point and to test the dataset.\n"
      ]
    },
    {
      "cell_type": "code",
      "metadata": {
        "id": "cBDLOkP9XZnT"
      },
      "source": [
        "def create_example_cnn_model(name):\n",
        "  model = keras.Sequential(name=name)\n",
        "  model.add(keras.layers.Conv2D(filters=16, kernel_size=(3,3), padding=\"same\", activation=\"relu\", input_shape=(image_height, image_width, image_channels)))\n",
        "  model.add(keras.layers.MaxPooling2D())\n",
        "  model.add(keras.layers.Conv2D(filters=32, kernel_size=(3,3), padding=\"same\", activation=\"relu\"))\n",
        "  model.add(keras.layers.MaxPooling2D())\n",
        "  model.add(keras.layers.Conv2D(filters=64, kernel_size=(3,3), padding=\"same\", activation=\"relu\"))\n",
        "  model.add(keras.layers.MaxPooling2D())\n",
        "  model.add(keras.layers.Dropout(rate=0.3))\n",
        "  model.add(keras.layers.Flatten())\n",
        "  model.add(keras.layers.Dense(units=128, activation=\"relu\"))\n",
        "  model.add(keras.layers.Dropout(rate=0.3))\n",
        "  model.add(keras.layers.Dense(units=num_classes, activation=\"softmax\"))\n",
        "\n",
        "  model.compile(optimizer=\"adam\", loss=\"sparse_categorical_crossentropy\", metrics=[\"accuracy\"])\n",
        "  return model"
      ],
      "execution_count": null,
      "outputs": []
    },
    {
      "cell_type": "code",
      "metadata": {
        "id": "5YFK1cCdzc7v"
      },
      "source": [
        "example_cnn_model = create_example_cnn_model(\"example_cnn_model\")\n",
        "process_model(example_cnn_model, epochs=20)"
      ],
      "execution_count": null,
      "outputs": []
    },
    {
      "cell_type": "markdown",
      "metadata": {
        "id": "tQ_61sBoudIt"
      },
      "source": [
        "#### Beat the example model in the performance"
      ]
    },
    {
      "cell_type": "markdown",
      "metadata": {
        "id": "oMwa3vw4wnZ3"
      },
      "source": [
        "The example cnn already classifies pretty good. By adding a second Fully connected layer the validation accuracy increases by <1% "
      ]
    },
    {
      "cell_type": "code",
      "metadata": {
        "id": "-lQFFZDOkyUf"
      },
      "source": [
        "def create_cnn_model(name):\n",
        "  model = keras.Sequential(name=name)\n",
        "\n",
        "  model.add(keras.layers.Conv2D(filters=16, kernel_size=(5,5), padding=\"same\", activation=\"relu\", input_shape=(image_height, image_width, image_channels)))\n",
        "  model.add(keras.layers.MaxPooling2D())\n",
        "  model.add(keras.layers.Conv2D(filters=32, kernel_size=(3,3), padding=\"same\", activation=\"relu\"))\n",
        "  model.add(keras.layers.MaxPooling2D())\n",
        "  model.add(keras.layers.Conv2D(filters=64, kernel_size=(3,3), padding=\"same\", activation=\"relu\"))\n",
        "  model.add(keras.layers.MaxPooling2D())\n",
        "\n",
        "  model.add(keras.layers.Dropout(rate=0.3))\n",
        "  model.add(keras.layers.Flatten())\n",
        "\n",
        "  model.add(keras.layers.Dense(units=128, activation=\"relu\"))\n",
        "  model.add(keras.layers.Dropout(rate=0.3))\n",
        "  model.add(keras.layers.Dense(units=64, activation=\"relu\"))\n",
        "  model.add(keras.layers.Dropout(rate=0.3))\n",
        "\n",
        "  model.add(keras.layers.Dense(units=num_classes, activation=\"softmax\"))\n",
        "\n",
        "  model.compile(optimizer=\"adam\", loss=\"sparse_categorical_crossentropy\", metrics=[\"accuracy\"])\n",
        "  return model"
      ],
      "execution_count": null,
      "outputs": []
    },
    {
      "cell_type": "code",
      "metadata": {
        "colab": {
          "base_uri": "https://localhost:8080/",
          "height": 1000
        },
        "id": "Lwkd6gANFLpk",
        "outputId": "101b5a5c-9a51-41d6-a6b6-70a7353a623e"
      },
      "source": [
        "cnn_model = create_cnn_model(\"cnn_model\")\n",
        "process_model(cnn_model, epochs=20, fitting_verbose=1)"
      ],
      "execution_count": null,
      "outputs": [
        {
          "output_type": "stream",
          "text": [
            "Model: \"cnn_model\"\n",
            "_________________________________________________________________\n",
            "Layer (type)                 Output Shape              Param #   \n",
            "=================================================================\n",
            "conv2d_6 (Conv2D)            (None, 28, 28, 16)        1216      \n",
            "_________________________________________________________________\n",
            "max_pooling2d_6 (MaxPooling2 (None, 14, 14, 16)        0         \n",
            "_________________________________________________________________\n",
            "conv2d_7 (Conv2D)            (None, 14, 14, 32)        4640      \n",
            "_________________________________________________________________\n",
            "max_pooling2d_7 (MaxPooling2 (None, 7, 7, 32)          0         \n",
            "_________________________________________________________________\n",
            "conv2d_8 (Conv2D)            (None, 7, 7, 64)          18496     \n",
            "_________________________________________________________________\n",
            "max_pooling2d_8 (MaxPooling2 (None, 3, 3, 64)          0         \n",
            "_________________________________________________________________\n",
            "dropout_5 (Dropout)          (None, 3, 3, 64)          0         \n",
            "_________________________________________________________________\n",
            "flatten_2 (Flatten)          (None, 576)               0         \n",
            "_________________________________________________________________\n",
            "dense_6 (Dense)              (None, 128)               73856     \n",
            "_________________________________________________________________\n",
            "dropout_6 (Dropout)          (None, 128)               0         \n",
            "_________________________________________________________________\n",
            "dense_7 (Dense)              (None, 64)                8256      \n",
            "_________________________________________________________________\n",
            "dropout_7 (Dropout)          (None, 64)                0         \n",
            "_________________________________________________________________\n",
            "dense_8 (Dense)              (None, 5)                 325       \n",
            "=================================================================\n",
            "Total params: 106,789\n",
            "Trainable params: 106,789\n",
            "Non-trainable params: 0\n",
            "_________________________________________________________________\n",
            "\n",
            "\n",
            "Fitting cnn_model ...\n",
            "\n",
            "Epoch 1/20\n",
            "1875/1875 [==============================] - 9s 4ms/step - loss: 0.4038 - accuracy: 0.8625 - val_loss: 0.2079 - val_accuracy: 0.9304\n",
            "Epoch 2/20\n",
            "1875/1875 [==============================] - 8s 4ms/step - loss: 0.2254 - accuracy: 0.9279 - val_loss: 0.1760 - val_accuracy: 0.9412\n",
            "Epoch 3/20\n",
            "1875/1875 [==============================] - 8s 4ms/step - loss: 0.1964 - accuracy: 0.9365 - val_loss: 0.1702 - val_accuracy: 0.9435\n",
            "Epoch 4/20\n",
            "1875/1875 [==============================] - 8s 4ms/step - loss: 0.1772 - accuracy: 0.9419 - val_loss: 0.1666 - val_accuracy: 0.9441\n",
            "Epoch 5/20\n",
            "1875/1875 [==============================] - 8s 4ms/step - loss: 0.1627 - accuracy: 0.9460 - val_loss: 0.1538 - val_accuracy: 0.9494\n",
            "Epoch 6/20\n",
            "1875/1875 [==============================] - 8s 4ms/step - loss: 0.1549 - accuracy: 0.9484 - val_loss: 0.1541 - val_accuracy: 0.9512\n",
            "Epoch 7/20\n",
            "1875/1875 [==============================] - 8s 4ms/step - loss: 0.1455 - accuracy: 0.9521 - val_loss: 0.1423 - val_accuracy: 0.9516\n",
            "Epoch 8/20\n",
            "1875/1875 [==============================] - 8s 4ms/step - loss: 0.1384 - accuracy: 0.9541 - val_loss: 0.1440 - val_accuracy: 0.9519\n",
            "Epoch 9/20\n",
            "1875/1875 [==============================] - 8s 4ms/step - loss: 0.1314 - accuracy: 0.9552 - val_loss: 0.1492 - val_accuracy: 0.9520\n",
            "Epoch 10/20\n",
            "1875/1875 [==============================] - 8s 4ms/step - loss: 0.1295 - accuracy: 0.9565 - val_loss: 0.1435 - val_accuracy: 0.9522\n",
            "Epoch 11/20\n",
            "1875/1875 [==============================] - 8s 4ms/step - loss: 0.1266 - accuracy: 0.9574 - val_loss: 0.1415 - val_accuracy: 0.9542\n",
            "Epoch 12/20\n",
            "1875/1875 [==============================] - 8s 4ms/step - loss: 0.1217 - accuracy: 0.9592 - val_loss: 0.1385 - val_accuracy: 0.9549\n",
            "Epoch 13/20\n",
            "1875/1875 [==============================] - 8s 4ms/step - loss: 0.1170 - accuracy: 0.9610 - val_loss: 0.1354 - val_accuracy: 0.9550\n",
            "Epoch 14/20\n",
            "1875/1875 [==============================] - 8s 4ms/step - loss: 0.1128 - accuracy: 0.9623 - val_loss: 0.1359 - val_accuracy: 0.9566\n",
            "Epoch 15/20\n",
            "1875/1875 [==============================] - 8s 4ms/step - loss: 0.1124 - accuracy: 0.9620 - val_loss: 0.1363 - val_accuracy: 0.9559\n",
            "Epoch 16/20\n",
            "1875/1875 [==============================] - 8s 4ms/step - loss: 0.1071 - accuracy: 0.9635 - val_loss: 0.1414 - val_accuracy: 0.9559\n",
            "Epoch 17/20\n",
            "1875/1875 [==============================] - 8s 4ms/step - loss: 0.1091 - accuracy: 0.9634 - val_loss: 0.1432 - val_accuracy: 0.9534\n",
            "Finished fitting!\n",
            "\n",
            "\n"
          ],
          "name": "stdout"
        },
        {
          "output_type": "display_data",
          "data": {
            "image/png": "[encoded data removed]",
            "text/plain": [
              "<Figure size 504x504 with 2 Axes>"
            ]
          },
          "metadata": {
            "tags": [],
            "needs_background": "light"
          }
        },
        {
          "output_type": "stream",
          "text": [
            "\n",
            "\n"
          ],
          "name": "stdout"
        },
        {
          "output_type": "display_data",
          "data": {
            "image/png": "[encoded data removed]",
            "text/plain": [
              "<Figure size 504x504 with 2 Axes>"
            ]
          },
          "metadata": {
            "tags": [],
            "needs_background": "light"
          }
        },
        {
          "output_type": "stream",
          "text": [
            "\n",
            "\n",
            "Final accuracy for cnn_model: 95.34%\n"
          ],
          "name": "stdout"
        }
      ]
    },
    {
      "cell_type": "markdown",
      "metadata": {
        "id": "0zLi6_ZWVle3"
      },
      "source": [
        "#### Tuning the hyperparameters of the cnn"
      ]
    },
    {
      "cell_type": "code",
      "metadata": {
        "id": "yJsm1C0MxOKZ"
      },
      "source": [
        "def create_cnn_hypermodel(hp):\n",
        "  model = keras.Sequential()\n",
        "\n",
        "  hp_filters = hp.Int(\"conv1_filters\", min_value=16, max_value=256, step=16)\n",
        "  model.add(keras.layers.Conv2D(filters=hp_filters, kernel_size=(5,5), padding=\"same\", activation=\"relu\", input_shape=(image_height, image_width, image_channels)))\n",
        "  model.add(keras.layers.MaxPooling2D())\n",
        "\n",
        "  hp_filters = hp.Int(\"conv2_filters\", min_value=16, max_value=256, step=16)\n",
        "  model.add(keras.layers.Conv2D(filters=hp_filters, kernel_size=(3,3), padding=\"same\", activation=\"relu\"))\n",
        "  model.add(keras.layers.MaxPooling2D())\n",
        "\n",
        "  hp_filters = hp.Int(\"conv3_filters\", min_value=16, max_value=256, step=16)\n",
        "  model.add(keras.layers.Conv2D(filters=hp_filters, kernel_size=(3,3), padding=\"same\", activation=\"relu\"))\n",
        "  model.add(keras.layers.MaxPooling2D())\n",
        "\n",
        "  model.add(keras.layers.Dropout(rate=0.3))\n",
        "  model.add(keras.layers.Flatten())\n",
        "\n",
        "  hp_units = hp.Int(\"fc1_units\", min_value=32, max_value=512, step=32)\n",
        "  model.add(keras.layers.Dense(units=hp_units, activation=\"relu\"))\n",
        "  model.add(keras.layers.Dropout(rate=0.3))\n",
        "\n",
        "  hp_units = hp.Int(\"fc2_units\", min_value=32, max_value=512, step=32)\n",
        "  model.add(keras.layers.Dense(units=hp_units, activation=\"relu\"))\n",
        "  model.add(keras.layers.Dropout(rate=0.3))\n",
        "\n",
        "  model.add(keras.layers.Dense(units=num_classes, activation=\"softmax\"))\n",
        "\n",
        "  hp_learning_rate = hp.Choice(\"learning_rate\", values=[0.01, 0.001, 0.0001])\n",
        "  optimizer = keras.optimizers.Adam(learning_rate=hp_learning_rate)\n",
        "\n",
        "  loss = keras.losses.SparseCategoricalCrossentropy()\n",
        "\n",
        "  model.compile(optimizer=optimizer, loss=loss, metrics=[\"accuracy\"])\n",
        "  return model"
      ],
      "execution_count": null,
      "outputs": []
    },
    {
      "cell_type": "code",
      "metadata": {
        "colab": {
          "base_uri": "https://localhost:8080/"
        },
        "id": "S0uHjwjYzRKc",
        "outputId": "b428d565-238e-4c88-a0aa-135af81f7607"
      },
      "source": [
        "tuner = kt.tuners.Hyperband(create_cnn_hypermodel,\n",
        "                     objective=\"val_accuracy\",\n",
        "                     max_epochs=10,\n",
        "                     factor=3,\n",
        "                     directory=model_dir,\n",
        "                     project_name=\"cnn_hypermodel\")"
      ],
      "execution_count": null,
      "outputs": [
        {
          "output_type": "stream",
          "text": [
            "INFO:tensorflow:Reloading Oracle from existing project /content/drive/MyDrive/DeepLearning/Challenge/Models/cnn_hypermodel/oracle.json\n",
            "INFO:tensorflow:Reloading Tuner from /content/drive/MyDrive/DeepLearning/Challenge/Models/cnn_hypermodel/tuner0.json\n"
          ],
          "name": "stdout"
        }
      ]
    },
    {
      "cell_type": "code",
      "metadata": {
        "colab": {
          "base_uri": "https://localhost:8080/"
        },
        "id": "i33k7_gczs6b",
        "outputId": "c6f96791-cc93-4364-eb6d-cd6e451f1b37"
      },
      "source": [
        "tuner.search(x_train, y_train, epochs=20, validation_data=(x_test, y_test), callbacks=get_callbacks(\"cnn_hypermodel\"))\n",
        "\n",
        "best_hps = tuner.get_best_hyperparameters(num_trials=1)[0]"
      ],
      "execution_count": null,
      "outputs": [
        {
          "output_type": "stream",
          "text": [
            "Trial 7 Complete [00h 01m 22s]\n",
            "val_accuracy: 0.9498800039291382\n",
            "\n",
            "Best val_accuracy So Far: 0.9582399725914001\n",
            "Total elapsed time: 00h 11m 03s\n",
            "\n",
            "Search: Running Trial #8\n",
            "\n",
            "Hyperparameter    |Value             |Best Value So Far \n",
            "conv1_filters     |240               |256               \n",
            "conv2_filters     |192               |80                \n",
            "conv3_filters     |192               |240               \n",
            "fc1_units         |256               |384               \n",
            "fc2_units         |448               |192               \n",
            "learning_rate     |0.0001            |0.001             \n",
            "tuner/epochs      |4                 |10                \n",
            "tuner/initial_e...|0                 |4                 \n",
            "tuner/bracket     |1                 |2                 \n",
            "tuner/round       |0                 |2                 \n",
            "\n",
            "Epoch 1/4\n",
            "2344/2344 [==============================] - 24s 10ms/step - loss: 0.4415 - accuracy: 0.8497 - val_loss: 0.2264 - val_accuracy: 0.9264\n",
            "Epoch 2/4\n",
            "1635/2344 [===================>..........] - ETA: 3:13 - loss: 0.2279 - accuracy: 0.9261"
          ],
          "name": "stdout"
        }
      ]
    },
    {
      "cell_type": "code",
      "metadata": {
        "id": "FDNJpiDd-Qjm"
      },
      "source": [
        "print(\"Best value for conv1_filters: \" + str(best_hps.get(\"conv1_filters\")))\n",
        "print(\"Best value for conv2_filters: \" + str(best_hps.get(\"conv2_filters\")))\n",
        "print(\"Best value for conv3_filters: \" + str(best_hps.get(\"conv3_filters\")))\n",
        "print(\"Best value for fc1_units: \" + str(best_hps.get(\"fc1_units\")))\n",
        "print(\"Best value for fc2_units: \" + str(best_hps.get(\"fc2_units\")))\n",
        "print(\"Best value for learning_rate: \" + str(best_hps.get(\"learning_rate\")))"
      ],
      "execution_count": null,
      "outputs": []
    },
    {
      "cell_type": "markdown",
      "metadata": {
        "id": "3F2Zyj82tVb8"
      },
      "source": [
        "## Test setup"
      ]
    },
    {
      "cell_type": "code",
      "metadata": {
        "id": "UPoNzANSqGsS"
      },
      "source": [
        "def unison_shuffled_copies(a, b):\n",
        "    assert len(a) == len(b)\n",
        "    p = np.random.permutation(len(a))\n",
        "    return a[p], b[p]"
      ],
      "execution_count": null,
      "outputs": []
    },
    {
      "cell_type": "code",
      "metadata": {
        "id": "nu3K4HfTqjD2"
      },
      "source": [
        "x_test_shuffled, y_test_shuffled = unison_shuffled_copies(x_test, y_test)"
      ],
      "execution_count": null,
      "outputs": []
    },
    {
      "cell_type": "code",
      "metadata": {
        "colab": {
          "base_uri": "https://localhost:8080/"
        },
        "id": "sAHbJIPPqxOE",
        "outputId": "3e23d3df-1e62-4b8c-bb56-42f4cb9c3848"
      },
      "source": [
        "get_final_accuracy(cnn_rnn_model, x_test_shuffled, y_test_shuffled)"
      ],
      "execution_count": null,
      "outputs": [
        {
          "output_type": "stream",
          "text": [
            "Final accuracy for cnn_rnn_model: 95.66%\n"
          ],
          "name": "stdout"
        }
      ]
    },
    {
      "cell_type": "code",
      "metadata": {
        "id": "pGR08xlctYGq"
      },
      "source": [
        "def plot_prediction(predictions_array, true_label, img):\n",
        "  plt.figure(figsize=(10,3))\n",
        "  plt.subplot(1,2,1)\n",
        "\n",
        "  plt.grid(False)\n",
        "  plt.xticks([])\n",
        "  plt.yticks([])\n",
        "\n",
        "  plt.imshow(img[0], cmap=plt.cm.binary)\n",
        "\n",
        "  predicted_label = np.argmax(predictions_array)\n",
        "  if predicted_label == true_label:\n",
        "    color = 'blue'\n",
        "  else:\n",
        "    color = 'red'\n",
        "\n",
        "  plt.xlabel(\"{} {:2.0f}% ({})\".format(classes[predicted_label],\n",
        "                                100*np.max(predictions_array),\n",
        "                                classes[true_label]),\n",
        "                                color=color)\n",
        "  ax = plt.subplot(1,2,2)\n",
        "\n",
        "  plt.grid(False)\n",
        "  plt.xticks(range(5))\n",
        "  ax.xaxis.set_ticklabels(classes)\n",
        "  plt.yticks([])\n",
        "  thisplot = plt.bar(range(5), predictions_array, color=\"#777777\")\n",
        "  plt.ylim([0, 1])\n",
        "  predicted_label = np.argmax(predictions_array)\n",
        "\n",
        "  thisplot[predicted_label].set_color('red')\n",
        "  thisplot[true_label].set_color('blue')\n",
        "\n",
        "  plt.show()\n"
      ],
      "execution_count": null,
      "outputs": []
    },
    {
      "cell_type": "code",
      "metadata": {
        "id": "VrOShf44Sbi4"
      },
      "source": [
        "def test_model_with_one_img(path_to_image, true_label, model):\n",
        "  img = tf.keras.preprocessing.image.load_img(\n",
        "    path_to_image,\n",
        "    target_size=(image_height, image_width)\n",
        "  )\n",
        "\n",
        "  img_array = np.empty((1, image_height, image_width, image_channels))\n",
        "  img_array[0] = img\n",
        "\n",
        "  img_array = img_array / 255.0\n",
        "\n",
        "  predictions = model.predict(img_array)\n",
        "\n",
        "  plot_prediction(predictions[0], true_label, img_array)"
      ],
      "execution_count": null,
      "outputs": []
    },
    {
      "cell_type": "code",
      "metadata": {
        "id": "1oMe-2WBuh_E"
      },
      "source": [
        "def test_model_with_my_drawings(model):\n",
        "  # index in array represents the corresponding class label (y)\n",
        "  my_drawings_paths = [\n",
        "                      data_dir + \"my_basket.png\",\n",
        "                      data_dir + \"my_eye.png\",\n",
        "                      data_dir + \"my_binoculars.png\",\n",
        "                      data_dir + \"my_rabbit.png\",\n",
        "                      data_dir + \"my_hand.png\"\n",
        "  ]\n",
        "\n",
        "  for i in range(len(my_drawings_paths)):\n",
        "    test_model_with_one_img(my_drawings_paths[i], i, model)\n"
      ],
      "execution_count": null,
      "outputs": []
    },
    {
      "cell_type": "code",
      "metadata": {
        "id": "4FNkdDncvSsM",
        "colab": {
          "base_uri": "https://localhost:8080/",
          "height": 987
        },
        "outputId": "17d3dd18-2d27-4919-8539-ab421eee5202"
      },
      "source": [
        "test_model_with_my_drawings(cnn_rnn_model)"
      ],
      "execution_count": null,
      "outputs": [
        {
          "output_type": "display_data",
          "data": {
            "image/png": "[encoded data removed]",
            "text/plain": [
              "<Figure size 720x216 with 2 Axes>"
            ]
          },
          "metadata": {
            "tags": [],
            "needs_background": "light"
          }
        },
        {
          "output_type": "display_data",
          "data": {
            "image/png": "[encoded data removed]",
            "text/plain": [
              "<Figure size 720x216 with 2 Axes>"
            ]
          },
          "metadata": {
            "tags": [],
            "needs_background": "light"
          }
        },
        {
          "output_type": "display_data",
          "data": {
            "image/png": "[encoded data removed]",
            "text/plain": [
              "<Figure size 720x216 with 2 Axes>"
            ]
          },
          "metadata": {
            "tags": [],
            "needs_background": "light"
          }
        },
        {
          "output_type": "display_data",
          "data": {
            "image/png": "[encoded data removed]",
            "text/plain": [
              "<Figure size 720x216 with 2 Axes>"
            ]
          },
          "metadata": {
            "tags": [],
            "needs_background": "light"
          }
        },
        {
          "output_type": "display_data",
          "data": {
            "image/png": "[encoded data removed]",
            "text/plain": [
              "<Figure size 720x216 with 2 Axes>"
            ]
          },
          "metadata": {
            "tags": [],
            "needs_background": "light"
          }
        }
      ]
    },
    {
      "cell_type": "code",
      "metadata": {
        "colab": {
          "base_uri": "https://localhost:8080/",
          "height": 211
        },
        "id": "vAcyQot3YJD4",
        "outputId": "37988e01-289f-4f53-b716-dca5fe73dc78"
      },
      "source": [
        "test_img = np.empty((1, image_height, image_width, image_channels))\n",
        "num = randrange(len(x_test))\n",
        "test_img[0] = x_test[num]\n",
        "\n",
        "predictions = cnn_rnn_model.predict(test_img)\n",
        "plot_prediction(predictions[0], int(y_test[num]), test_img)"
      ],
      "execution_count": null,
      "outputs": [
        {
          "output_type": "display_data",
          "data": {
            "image/png": "[encoded data removed]",
            "text/plain": [
              "<Figure size 720x216 with 2 Axes>"
            ]
          },
          "metadata": {
            "tags": [],
            "needs_background": "light"
          }
        }
      ]
    },
    {
      "cell_type": "markdown",
      "metadata": {
        "id": "XuMxnGYakRW7"
      },
      "source": [
        "##Test with unknown data"
      ]
    },
    {
      "cell_type": "markdown",
      "metadata": {
        "id": "vxLG8SDDVas8"
      },
      "source": [
        ""
      ]
    },
    {
      "cell_type": "code",
      "metadata": {
        "id": "4qlq9v44VZK3"
      },
      "source": [
        "if 0:\n",
        "  %load_ext tensorboard\n",
        "  %tensorboard --logdir logs"
      ],
      "execution_count": null,
      "outputs": []
    }
  ]
}